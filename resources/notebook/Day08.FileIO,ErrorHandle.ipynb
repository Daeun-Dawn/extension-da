{
 "cells": [
  {
   "cell_type": "code",
   "execution_count": 103,
   "metadata": {},
   "outputs": [],
   "source": [
    "from functools import reduce\n",
    "import json"
   ]
  },
  {
   "cell_type": "code",
   "execution_count": 2,
   "metadata": {},
   "outputs": [],
   "source": [
    "# lambda a,b:a+b\n",
    "def reducer(a,b):\n",
    "    print(a,b)\n",
    "    return a+b\n",
    "\n",
    "# lambda a,b:b+a\n",
    "def reducer_reverse(a,b):\n",
    "    print(a,b)\n",
    "    return b+a"
   ]
  },
  {
   "cell_type": "code",
   "execution_count": 3,
   "metadata": {},
   "outputs": [
    {
     "name": "stdout",
     "output_type": "stream",
     "text": [
      "F a\n",
      "Fa s\n",
      "Fas t\n",
      "Fast c\n",
      "Fastc a\n",
      "Fastca m\n",
      "Fastcam p\n",
      "Fastcamp u\n",
      "Fastcampu s\n"
     ]
    },
    {
     "data": {
      "text/plain": [
       "'Fastcampus'"
      ]
     },
     "execution_count": 3,
     "metadata": {},
     "output_type": "execute_result"
    }
   ],
   "source": [
    "reduce(lambda a,b:reducer(a,b), \"Fastcampus\")"
   ]
  },
  {
   "cell_type": "code",
   "execution_count": 4,
   "metadata": {},
   "outputs": [
    {
     "name": "stdout",
     "output_type": "stream",
     "text": [
      "F a\n",
      "aF s\n",
      "saF t\n",
      "tsaF c\n",
      "ctsaF a\n",
      "actsaF m\n",
      "mactsaF p\n",
      "pmactsaF u\n",
      "upmactsaF s\n"
     ]
    },
    {
     "data": {
      "text/plain": [
       "'supmactsaF'"
      ]
     },
     "execution_count": 4,
     "metadata": {},
     "output_type": "execute_result"
    }
   ],
   "source": [
    "reduce(lambda a,b:reducer_reverse(a,b), \"Fastcampus\")"
   ]
  },
  {
   "cell_type": "code",
   "execution_count": 5,
   "metadata": {},
   "outputs": [],
   "source": [
    "recycle_bin = [\n",
    "1, 2, \"Fastcampus\", ['dog', 'cat', 'pig'], 5, 4, 5.6, False,\n",
    "\"패스트캠퍼스\", 100, 3.14, 2.71828, {'name':'Kim'}, True,\n",
    "]"
   ]
  },
  {
   "cell_type": "code",
   "execution_count": 13,
   "metadata": {},
   "outputs": [
    {
     "data": {
      "text/plain": [
       "[1, 2, 5, 4, 5.6, 100, 3.14, 2.71828]"
      ]
     },
     "execution_count": 13,
     "metadata": {},
     "output_type": "execute_result"
    }
   ],
   "source": [
    "# 1. 정수와 실수로만 이루어진 리스트 출력\n",
    "# filter\n",
    "list(filter(\n",
    "    lambda a:not isinstance(a, bool) \n",
    "        and isinstance(a, (int, float)), recycle_bin))"
   ]
  },
  {
   "cell_type": "code",
   "execution_count": 15,
   "metadata": {},
   "outputs": [
    {
     "data": {
      "text/plain": [
       "[1, 4, 25, 16, 10000]"
      ]
     },
     "execution_count": 15,
     "metadata": {},
     "output_type": "execute_result"
    }
   ],
   "source": [
    "# 2. 정수만 뽑아내 각각 제곱하기\n",
    "# filter, map\n",
    "list(map(lambda a: a**2, \n",
    "    filter(\n",
    "    lambda a: not isinstance(a,bool) and isinstance(a, int), \n",
    "    recycle_bin)))"
   ]
  },
  {
   "cell_type": "code",
   "execution_count": 23,
   "metadata": {},
   "outputs": [
    {
     "data": {
      "text/plain": [
       "10046"
      ]
     },
     "execution_count": 23,
     "metadata": {},
     "output_type": "execute_result"
    }
   ],
   "source": [
    "# 3. 정수만 뽑아내서 각각 제곱한 뒤, 그 합계 출력\n",
    "# filter, map, reduce\n",
    "reduce(lambda a,b:a+b,\n",
    "       map(lambda a:a**2, \n",
    "           filter(lambda a:not isinstance(a,bool) \n",
    "                  and isinstance(a, int), recycle_bin)))"
   ]
  },
  {
   "cell_type": "code",
   "execution_count": 24,
   "metadata": {},
   "outputs": [],
   "source": [
    "# Orders 관련 문제풀이\n",
    "\n",
    "orders = []"
   ]
  },
  {
   "cell_type": "code",
   "execution_count": 25,
   "metadata": {},
   "outputs": [
    {
     "data": {
      "text/plain": [
       "[(181121001, 2, 2400),\n",
       " (181121002, 12, 9800),\n",
       " (181121003, 5, 124800),\n",
       " (181121004, 10, 76000),\n",
       " (181121005, 24, 2810)]"
      ]
     },
     "execution_count": 25,
     "metadata": {},
     "output_type": "execute_result"
    }
   ],
   "source": [
    "orders.append((181121001,2,2400))\n",
    "orders.append((181121002,12,9800))\n",
    "orders.append((181121003,5,124800))\n",
    "orders.append((181121004,10,76000))\n",
    "orders.append((181121005,24,2810))\n",
    "\n",
    "orders"
   ]
  },
  {
   "cell_type": "code",
   "execution_count": 35,
   "metadata": {},
   "outputs": [
    {
     "data": {
      "text/plain": [
       "(4800, 117600, 624000, 760000, 67440)"
      ]
     },
     "execution_count": 35,
     "metadata": {},
     "output_type": "execute_result"
    }
   ],
   "source": [
    "# 2. 각 주문 별 총 구매가격\n",
    "#for item in orders:\n",
    "#    print(item[1]*item[2])\n",
    "tuple(map(lambda a:a[1]*a[2], orders))"
   ]
  },
  {
   "cell_type": "code",
   "execution_count": 34,
   "metadata": {},
   "outputs": [
    {
     "name": "stdout",
     "output_type": "stream",
     "text": [
      "1573840 314768.0\n"
     ]
    }
   ],
   "source": [
    "# 3. 총 매출과 평균 구매금액\n",
    "revenue = reduce(lambda a,b:a+b, map(lambda a:a[1]*a[2], orders))\n",
    "mean_revenue = reduce(lambda a,b:a+b, map(lambda a:a[1]*a[2], orders)) / len(orders)\n",
    "print(revenue, mean_revenue)"
   ]
  },
  {
   "cell_type": "code",
   "execution_count": 36,
   "metadata": {},
   "outputs": [],
   "source": [
    "f = open('new_file.txt', 'w')\n",
    "f.close()"
   ]
  },
  {
   "cell_type": "code",
   "execution_count": 37,
   "metadata": {},
   "outputs": [
    {
     "data": {
      "text/plain": [
       "<_io.TextIOWrapper name='new_file.txt' mode='w' encoding='UTF-8'>"
      ]
     },
     "execution_count": 37,
     "metadata": {},
     "output_type": "execute_result"
    }
   ],
   "source": [
    "f"
   ]
  },
  {
   "cell_type": "code",
   "execution_count": 38,
   "metadata": {},
   "outputs": [],
   "source": [
    "f = open('new_file.txt', 'w')\n",
    "f.write('Incredible File io with python!!\\n')\n",
    "f.close()"
   ]
  },
  {
   "cell_type": "code",
   "execution_count": 42,
   "metadata": {},
   "outputs": [
    {
     "name": "stdout",
     "output_type": "stream",
     "text": [
      "Incredible File io with python!!\n",
      "\n",
      "<class 'str'>\n"
     ]
    }
   ],
   "source": [
    "f = open('new_file.txt', 'r')\n",
    "text = f.readline()\n",
    "print(text)\n",
    "print(type(text))\n",
    "f.close()"
   ]
  },
  {
   "cell_type": "code",
   "execution_count": 46,
   "metadata": {},
   "outputs": [],
   "source": [
    "f = open('new_file.txt', 'w')\n",
    "for i in range(1,10+1):\n",
    "    f.write(\"This is line no.{} \\n\".format(i))\n",
    "f.close()"
   ]
  },
  {
   "cell_type": "code",
   "execution_count": 48,
   "metadata": {},
   "outputs": [],
   "source": [
    "f = open('new_file.txt', 'r')"
   ]
  },
  {
   "cell_type": "code",
   "execution_count": 59,
   "metadata": {},
   "outputs": [
    {
     "data": {
      "text/plain": [
       "''"
      ]
     },
     "execution_count": 59,
     "metadata": {},
     "output_type": "execute_result"
    }
   ],
   "source": [
    "f.readline()"
   ]
  },
  {
   "cell_type": "code",
   "execution_count": 60,
   "metadata": {},
   "outputs": [],
   "source": [
    "f.close()"
   ]
  },
  {
   "cell_type": "code",
   "execution_count": 61,
   "metadata": {},
   "outputs": [],
   "source": [
    "f = open('new_file.txt','r')\n",
    "text = f.readlines()\n",
    "f.close()"
   ]
  },
  {
   "cell_type": "code",
   "execution_count": 65,
   "metadata": {},
   "outputs": [
    {
     "name": "stdout",
     "output_type": "stream",
     "text": [
      "This is line no.1 \n",
      "This is line no.2 \n",
      "This is line no.3 \n",
      "This is line no.4 \n",
      "This is line no.5 \n",
      "This is line no.6 \n",
      "This is line no.7 \n",
      "This is line no.8 \n",
      "This is line no.9 \n",
      "This is line no.10 \n"
     ]
    }
   ],
   "source": [
    "for item in text:\n",
    "    #1 print(item, end='')\n",
    "    print(item.replace('\\n',''))"
   ]
  },
  {
   "cell_type": "code",
   "execution_count": 68,
   "metadata": {},
   "outputs": [],
   "source": [
    "f = open('new_file.txt','a')\n",
    "for i in range(1,10+1):\n",
    "    f.write(\"This is new line \\t no.{} \\n\".format(i+10))\n",
    "    \n",
    "f.close()"
   ]
  },
  {
   "cell_type": "code",
   "execution_count": 69,
   "metadata": {},
   "outputs": [
    {
     "name": "stdout",
     "output_type": "stream",
     "text": [
      "This is line no.1 \n",
      "This is line no.2 \n",
      "This is line no.3 \n",
      "This is line no.4 \n",
      "This is line no.5 \n",
      "This is line no.6 \n",
      "This is line no.7 \n",
      "This is line no.8 \n",
      "This is line no.9 \n",
      "This is line no.10 \n",
      "This is new line no.11 This is new line no.12 This is new line no.13 This is new line no.14 This is new line no.15 This is new line no.16 This is new line no.17 This is new line no.18 This is new line no.19 This is new line no.20 This is new line no.11 \n",
      "This is new line no.12 \n",
      "This is new line no.13 \n",
      "This is new line no.14 \n",
      "This is new line no.15 \n",
      "This is new line no.16 \n",
      "This is new line no.17 \n",
      "This is new line no.18 \n",
      "This is new line no.19 \n",
      "This is new line no.20 \n",
      "This is new line \t no.11 \n",
      "This is new line \t no.12 \n",
      "This is new line \t no.13 \n",
      "This is new line \t no.14 \n",
      "This is new line \t no.15 \n",
      "This is new line \t no.16 \n",
      "This is new line \t no.17 \n",
      "This is new line \t no.18 \n",
      "This is new line \t no.19 \n",
      "This is new line \t no.20 \n"
     ]
    }
   ],
   "source": [
    "# with with statement\n",
    "with open('new_file.txt', 'r') as f:\n",
    "    text = f.readlines()\n",
    "    for item in text:\n",
    "        print(item.replace('\\n',''))\n"
   ]
  },
  {
   "cell_type": "code",
   "execution_count": 71,
   "metadata": {},
   "outputs": [
    {
     "ename": "NameError",
     "evalue": "name 'f' is not defined",
     "output_type": "error",
     "traceback": [
      "\u001b[0;31m---------------------------------------------------------------------------\u001b[0m",
      "\u001b[0;31mNameError\u001b[0m                                 Traceback (most recent call last)",
      "\u001b[0;32m<ipython-input-71-3d8b1fd05b7d>\u001b[0m in \u001b[0;36m<module>\u001b[0;34m()\u001b[0m\n\u001b[1;32m      1\u001b[0m \u001b[0;32mdel\u001b[0m \u001b[0mf\u001b[0m\u001b[0;34m\u001b[0m\u001b[0m\n\u001b[0;32m----> 2\u001b[0;31m \u001b[0mf\u001b[0m\u001b[0;34m\u001b[0m\u001b[0m\n\u001b[0m",
      "\u001b[0;31mNameError\u001b[0m: name 'f' is not defined"
     ]
    }
   ],
   "source": [
    "del f\n",
    "f"
   ]
  },
  {
   "cell_type": "code",
   "execution_count": 92,
   "metadata": {
    "scrolled": false
   },
   "outputs": [],
   "source": [
    "result_dict = {}\n",
    "\n",
    "with open('best_boxing_movies.csv', 'r') as f:\n",
    "    movie_list = f.readlines()\n",
    "    for item in movie_list:\n",
    "        result = [s.strip(\"' \\n\") for s in item.split(',')]\n",
    "        index = int(result[0])\n",
    "        movie_title = result[1]\n",
    "        try:\n",
    "            year = int(result[2])\n",
    "        except:\n",
    "            year = result[2]\n",
    "        rotten_url = result[3]\n",
    "        img_url = result[4]\n",
    "        # {index: {\n",
    "        #        name: eval(name), \n",
    "        #        ... \n",
    "        #    } \n",
    "        # }\n",
    "        result_dict[index] = dict( \n",
    "            [\n",
    "                (name, eval(name)) for name in \n",
    "                [\"index\", \"movie_title\", \"year\", \"rotten_url\", \"img_url\"]\n",
    "            ])"
   ]
  },
  {
   "cell_type": "code",
   "execution_count": 93,
   "metadata": {},
   "outputs": [
    {
     "name": "stdout",
     "output_type": "stream",
     "text": [
      "index 52\n",
      "movie_title Ring of Fire: The Emile Griffith Story\n",
      "year 2005\n",
      "rotten_url https://www.rottentomatoes.com/m/ring_of_fire_the_emile_griffith_story/\n",
      "img_url https://resizing.flixster.com/Gl9mXPoif-6Gg8KhbWLReXQlmF8=/180x254/v1.bTsxMTIxMTcwNTtqOzE3OTQ5OzIwNDg7MTUxNTsyMTM1\n"
     ]
    }
   ],
   "source": [
    "for k,v in result_dict[52].items():\n",
    "    print(k,v)"
   ]
  },
  {
   "cell_type": "code",
   "execution_count": 91,
   "metadata": {},
   "outputs": [
    {
     "data": {
      "text/plain": [
       "{'index': 1,\n",
       " 'movie_title': 'Creed',\n",
       " 'year': 2015,\n",
       " 'rotten_url': 'https://www.rottentomatoes.com/m/creed_2015/',\n",
       " 'img_url': 'https://resizing.flixster.com/gjV5dBNgv2mGgY4WAD-rt97cacc=/180x267/v1.bTsxMTIyNjAyNjtqOzE3OTYwOzIwNDg7NTc0Ozg1MQ'}"
      ]
     },
     "execution_count": 91,
     "metadata": {},
     "output_type": "execute_result"
    }
   ],
   "source": [
    "indexes = dict([(name, eval(name)) for name in [\"index\", \"movie_title\", \"year\", \"rotten_url\", \"img_url\"]])\n",
    "indexes"
   ]
  },
  {
   "cell_type": "code",
   "execution_count": 95,
   "metadata": {},
   "outputs": [
    {
     "data": {
      "text/plain": [
       "{'aa': 1, 'bb': 2, 'cc': 3}"
      ]
     },
     "execution_count": 95,
     "metadata": {},
     "output_type": "execute_result"
    }
   ],
   "source": [
    "# Tip\n",
    "aa = 1\n",
    "bb = 2\n",
    "cc = 3\n",
    "\n",
    "aa_dict = dict(\n",
    "    [\n",
    "        (name, eval(name)) for name in [\"aa\", \"bb\", \"cc\"]\n",
    "    ])\n",
    "    \n",
    "aa_dict"
   ]
  },
  {
   "cell_type": "code",
   "execution_count": 96,
   "metadata": {},
   "outputs": [
    {
     "data": {
      "text/plain": [
       "'Hello'"
      ]
     },
     "execution_count": 96,
     "metadata": {},
     "output_type": "execute_result"
    }
   ],
   "source": [
    "안녕 = \"Hello\"\n",
    "안녕"
   ]
  },
  {
   "cell_type": "code",
   "execution_count": 102,
   "metadata": {},
   "outputs": [
    {
     "data": {
      "text/plain": [
       "'안녕'"
      ]
     },
     "execution_count": 102,
     "metadata": {},
     "output_type": "execute_result"
    }
   ],
   "source": [
    "\"안녕\".encode('cp949').decode('cp949')"
   ]
  },
  {
   "cell_type": "code",
   "execution_count": 109,
   "metadata": {},
   "outputs": [],
   "source": [
    "# import json\n",
    "with open('best_boxing_movies.json', 'r') as f:\n",
    "    json_to_dict = json.load(f)"
   ]
  },
  {
   "cell_type": "code",
   "execution_count": 113,
   "metadata": {},
   "outputs": [],
   "source": [
    "with open('copy_of_boxing_movies.json', 'w') as f:\n",
    "    json.dump(json_to_dict, f)"
   ]
  },
  {
   "cell_type": "code",
   "execution_count": null,
   "metadata": {},
   "outputs": [],
   "source": []
  },
  {
   "cell_type": "code",
   "execution_count": 108,
   "metadata": {},
   "outputs": [
    {
     "data": {
      "text/plain": [
       "'{\"52\": {\"index\": 52, \"movie_title\": \"Ring of Fire: The Emile Griffith Story\", \"year\": 2005, \"href\": \"https://www.rottentomatoes.com/m/ring_of_fire_the_emile_griffith_story/\", \"img\": \"https://resizing.flixster.com/Gl9mXPoif-6Gg8KhbWLReXQlmF8=/180x254/v1.bTsxMTIxMTcwNTtqOzE3OTQ5OzIwNDg7MTUxNTsyMTM1\"}, \"51\": {\"index\": 51, \"movie_title\": \"Fighting Tommy Riley\", \"year\": 2005, \"href\": \"https://www.rottentomatoes.com/m/fighting_tommy_riley/\", \"img\": \"https://resizing.flixster.com/Z2ILsbuexNUufl4a530N5fCyc5A=/180x252/v1.bTsxMTIwOTg1NTtqOzE3OTg5OzIwNDg7MTUwNzsyMTEz\"}, \"50\": {\"index\": 50, \"movie_title\": \"Unforgivable Blackness: The Rise and Fall of Jack Johnson\", \"year\": 2004, \"href\": \"https://www.rottentomatoes.com/m/unforgivable_blackness_the_rise_and_fall_of_jack_johnson/\", \"img\": \"https://resizing.flixster.com/S0l6Z7ML4f_jLhJ-PP8JAQp9lhM=/144x196/v1.bTsxMjE2NTEyMDtqOzE3ODcwOzIwNDg7MTQ0OzE5Ng\"}, \"49\": {\"index\": 49, \"movie_title\": \"Two Fists, One Heart\", \"year\": 2009, \"href\": \"https://www.rottentomatoes.com/m/two-fists-one-heart/\", \"img\": \"https://resizing.flixster.com/2-5WLOPTyUbRrDjB3IjiCoix7g0=/180x270/v1.bTsxMjkxMzk0ODtqOzE3OTUyOzIwNDg7MjAwOzMwMA\"}, \"48\": {\"index\": 48, \"movie_title\": \"Blue Blood\", \"year\": 2006, \"href\": \"https://www.rottentomatoes.com/m/blue_blood-2006/\", \"img\": \"https://resizing.flixster.com/iL5x-xpPJCpckmE7MdmCd7GkXUg=/180x135/v1.bTsxMTE3ODA2MTtwOzE3OTY1OzIwNDg7NDQ4OzMzNw\"}, \"47\": {\"index\": 47, \"movie_title\": \"Kids Return\", \"year\": 1996, \"href\": \"https://www.rottentomatoes.com/m/kids_return/\", \"img\": \"https://resizing.flixster.com/0fhrpj3mqvRP8nS5rKWRaPW7fzI=/180x245/v1.bTsxMTYxNzY2MTtqOzE3OTY1OzIwNDg7MzQ5OzQ3NQ\"}, \"46\": {\"index\": 46, \"movie_title\": \"The Good Son: The Life of Ray Boom Boom Mancini\", \"year\": 2013, \"href\": \"https://www.rottentomatoes.com/m/the_good_son_the_life_of_ray_boom_boom_mancini/\", \"img\": \"https://resizing.flixster.com/yupkAdeO0c95O1IyjtzgineNO8Y=/179x270/v1.bTsxMTE3MjI1OTtqOzE3OTY4OzIwNDg7NTAwOzc1NQ\"}, \"45\": {\"index\": 45, \"movie_title\": \"The Kid From Brooklyn\", \"year\": 1946, \"href\": \"https://www.rottentomatoes.com/m/the_kid_from_brooklyn_1946/\", \"img\": \"https://resizing.flixster.com/SRSsOL6XEI3DAsufPdMcpJKrGvE=/178x270/v1.bTsxMTIxMDc1NjtqOzE3OTkwOzIwNDg7MTcyMTsyNjA4\"}, \"44\": {\"index\": 44, \"movie_title\": \"City for Conquest\", \"year\": 1940, \"href\": \"https://www.rottentomatoes.com/m/city_for_conquest/\", \"img\": \"https://resizing.flixster.com/JKS0H9CwjTOojIAH_zi7wLI8mGA=/180x240/v1.bTsxMTIxODI4MTtqOzE3OTU1OzIwNDg7MTUwMDsyMDAw\"}, \"43\": {\"index\": 43, \"movie_title\": \"I Am Ali\", \"year\": 2014, \"href\": \"https://www.rottentomatoes.com/m/i_am_ali/\", \"img\": \"https://resizing.flixster.com/M1fgAe9Kt7reRlw42vELsl79Wgs=/180x270/v1.bTsxMTE4MDg4NjtqOzE3OTU1OzIwNDg7ODAwOzEyMDA\"}, \"42\": {\"index\": 42, \"movie_title\": \"Let\\'s Do It Again\", \"year\": 1975, \"href\": \"https://www.rottentomatoes.com/m/lets_do_it_again/\", \"img\": \"https://resizing.flixster.com/Zo-G-2nvtDwqjNg0W_C0MW3G2fk=/180x240/v1.bTsxMTIwNDgwNDtqOzE3OTc4OzIwNDg7MTUzNjsyMDQ4\"}, \"41\": {\"index\": 41, \"movie_title\": \"Resurrecting the Champ\", \"year\": 2007, \"href\": \"https://www.rottentomatoes.com/m/resurrecting_the_champ/\", \"img\": \"https://resizing.flixster.com/qAK8Gx-gzC0xROexwqUMa_xYblQ=/180x240/v1.bTsxMTIxNzA1ODtqOzE3OTkyOzIwNDg7MTUzNjsyMDQ4\"}, \"40\": {\"index\": 40, \"movie_title\": \"Real Steel\", \"year\": 2011, \"href\": \"https://www.rottentomatoes.com/m/real_steel/\", \"img\": \"https://resizing.flixster.com/gWYRzcxeE5ZLxGyQEMexmXt-hhc=/180x240/v1.bTsxMTI0NDkxMTtqOzE3OTkxOzIwNDg7MTUzNjsyMDQ4\"}, \"39\": {\"index\": 39, \"movie_title\": \"Before the Fall (Napola)\", \"year\": 2004, \"href\": \"https://www.rottentomatoes.com/m/napola_elite_fur_den_fuhrer/\", \"img\": \"https://resizing.flixster.com/2uUnA0lHZq6GcNr0vCw8Ygj4UNU=/180x257/v1.bTsxMTYxNDAzNTtqOzE3OTg0OzIwNDg7NzYyOzEwODg\"}, \"38\": {\"index\": 38, \"movie_title\": \"Muhammad Ali, the Greatest\", \"year\": 1974, \"href\": \"https://www.rottentomatoes.com/m/muhammad_ali_the_greatest/\", \"img\": \"https://resizing.flixster.com/q0MrSrsO2HdblrzmsSKah9kmRUg=/180x240/v1.bTsxMTIyNzM5MDtqOzE3OTc0OzIwNDg7OTk2OzEzMjg\"}, \"37\": {\"index\": 37, \"movie_title\": \"On the Ropes\", \"year\": 1999, \"href\": \"https://www.rottentomatoes.com/m/on_the_ropes/\", \"img\": \"https://resizing.flixster.com/lF0-BAAZl7eRsYPKMhAsxZ4NUJc=/180x233/v1.bTsxMTYxNzU3ODtqOzE3OTcyOzIwNDg7NDY0OzYwMA\"}, \"36\": {\"index\": 36, \"movie_title\": \"Rocky III\", \"year\": 1982, \"href\": \"https://www.rottentomatoes.com/m/rocky_iii/\", \"img\": \"https://resizing.flixster.com/CzH7VHMSEpAmrrt5_GtDlGEUNnk=/180x240/v1.bTsxMTI5MDUyOTtqOzE3OTc5OzIwNDg7MTQxOTsxODky\"}, \"35\": {\"index\": 35, \"movie_title\": \"Battling Butler\", \"year\": 1926, \"href\": \"https://www.rottentomatoes.com/m/battling_butler/\", \"img\": \"https://resizing.flixster.com/Vk91HKVYbr6XKRsr96fJz6UEuFc=/180x240/v1.bTsxMTI5Nzk5OTtqOzE3OTc5OzIwNDg7OTk5OzEzMzI\"}, \"34\": {\"index\": 34, \"movie_title\": \"China Heavyweight\", \"year\": 2012, \"href\": \"https://www.rottentomatoes.com/m/china_heavyweight_2012/\", \"img\": \"https://resizing.flixster.com/KWHt-dU9kDf3WP_hSRawx6edrfU=/180x267/v1.bTsxMTE2NTc1MjtqOzE3OTg2OzIwNDg7MTk0NDsyODgw\"}, \"33\": {\"index\": 33, \"movie_title\": \"Ali\", \"year\": 2001, \"href\": \"https://www.rottentomatoes.com/m/ali/\", \"img\": \"https://resizing.flixster.com/_FshCvQGbuDPOMg1ZSK1Cf3fZtk=/180x240/v1.bTsxMTI5MTM3NDtqOzE3OTY5OzIwNDg7MjM5NzszMTk2\"}, \"32\": {\"index\": 32, \"movie_title\": \"Bleed For This\", \"year\": 2016, \"href\": \"https://www.rottentomatoes.com/m/bleed_for_this/\", \"img\": \"https://resizing.flixster.com/Fa5h3fKCaojbrj7oGQ3JoU9eCCk=/173x270/v1.bTsxMjI0NDY5MjtqOzE3OTI4OzIwNDg7MTkxNjsyOTg5\"}, \"31\": {\"index\": 31, \"movie_title\": \"Rocky II\", \"year\": 1979, \"href\": \"https://www.rottentomatoes.com/m/rocky_ii/\", \"img\": \"https://resizing.flixster.com/mHWXOy3xgyHMjrAuXstiHpMRKPE=/180x240/v1.bTsxMTYxNDQzNDtqOzE3OTc4OzIwNDg7NzIzOzk2NA\"}, \"30\": {\"index\": 30, \"movie_title\": \"The Ring\", \"year\": 1927, \"href\": \"https://www.rottentomatoes.com/m/1057839-ring/\", \"img\": \"https://resizing.flixster.com/_O2OWGA188sh8Wu8_bUqoKSiCpM=/180x259/v1.bTsxMTcwMTMxODtqOzE3ODc4OzIwNDg7Njk0OzEwMDA\"}, \"29\": {\"index\": 29, \"movie_title\": \"The Champ\", \"year\": 1931, \"href\": \"https://www.rottentomatoes.com/m/1030142-champ/\", \"img\": \"https://resizing.flixster.com/57YZmSdGJHumVzvlT8ywMLScOfE=/180x240/v1.bTsxMTIxODE5MDtqOzE3OTU0OzIwNDg7MTUzNjsyMDQ4\"}, \"28\": {\"index\": 28, \"movie_title\": \"The Hammer\", \"year\": 2007, \"href\": \"https://www.rottentomatoes.com/m/10009253-the_hammer/\", \"img\": \"https://resizing.flixster.com/DJGcG9aYbfMo0mzqrRjrfV8DZmI=/180x240/v1.bTsxMTIyNDA3OTtqOzE3OTkzOzIwNDg7MTUzNjsyMDQ4\"}, \"27\": {\"index\": 27, \"movie_title\": \"Rocky Balboa\", \"year\": 2006, \"href\": \"https://www.rottentomatoes.com/m/rocky_balboa/\", \"img\": \"https://resizing.flixster.com/JwoMsAbjtyRr3SMZRp5T0KzCY-0=/180x240/v1.bTsxMTIxNTU5NDtqOzE3OTY4OzIwNDg7MTUzNjsyMDQ4\"}, \"26\": {\"index\": 26, \"movie_title\": \"Somebody Up There Likes Me\", \"year\": 1956, \"href\": \"https://www.rottentomatoes.com/m/somebody_up_there_likes_me/\", \"img\": \"https://resizing.flixster.com/fWmigvo7I9txKjOKNhO0GzuTph4=/180x240/v1.bTsxMTI5Njg1MTtqOzE3OTU2OzIwNDg7MjI1MDszMDAw\"}, \"25\": {\"index\": 25, \"movie_title\": \"Chuck\", \"year\": 2017, \"href\": \"https://www.rottentomatoes.com/m/chuck/\", \"img\": \"https://resizing.flixster.com/pbsXSisYSvC1i63muv9tyjzrKYM=/180x267/v1.bTsxMjM3NDg2NDtqOzE3OTYyOzIwNDg7MjAyNTszMDAw\"}, \"24\": {\"index\": 24, \"movie_title\": \"The Boxer\", \"year\": 1997, \"href\": \"https://www.rottentomatoes.com/m/the_boxer/\", \"img\": \"https://resizing.flixster.com/qTYEKAFMgmloNK2xcm7xg7eiQpU=/180x240/v1.bTsxMTM3MjU5NjtqOzE3OTY3OzIwNDg7MTUzNjsyMDQ4\"}, \"23\": {\"index\": 23, \"movie_title\": \"Killer\\'s Kiss\", \"year\": 1955, \"href\": \"https://www.rottentomatoes.com/m/killers_kiss/\", \"img\": \"https://resizing.flixster.com/8Il1K7y0MJT__v--6-DWTN1-aLk=/180x240/v1.bTsxMTIxMTEwMztqOzE3OTc3OzIwNDg7MTUzNjsyMDQ4\"}, \"22\": {\"index\": 22, \"movie_title\": \"The Set-Up\", \"year\": 1949, \"href\": \"https://www.rottentomatoes.com/m/setup/\", \"img\": \"https://resizing.flixster.com/m2JUiCT77fbpag8MTi3_416c_lY=/180x240/v1.bTsxMTI5NjI2NztqOzE3OTU3OzIwNDg7MTUzNjsyMDQ4\"}, \"21\": {\"index\": 21, \"movie_title\": \"Cinderella Man\", \"year\": 2005, \"href\": \"https://www.rottentomatoes.com/m/cinderella_man/\", \"img\": \"https://resizing.flixster.com/qxsnhkygn5lAdE9Y-Qfuq69RSiU=/180x270/v1.bTsxMTE3MzcyMDtqOzE3OTg5OzIwNDg7ODAwOzEyMDA\"}, \"20\": {\"index\": 20, \"movie_title\": \"The Hurricane\", \"year\": 1999, \"href\": \"https://www.rottentomatoes.com/m/1093641-hurricane/\", \"img\": \"https://resizing.flixster.com/q-ycRBgRLnh48CdFtEPVxFQ4cWA=/180x270/v1.bTsxMTE3NTQ0MDtqOzE3OTU0OzIwNDg7ODAwOzEyMDA\"}, \"19\": {\"index\": 19, \"movie_title\": \"Tyson\", \"year\": 2009, \"href\": \"https://www.rottentomatoes.com/m/1208128-tyson/\", \"img\": \"https://resizing.flixster.com/FEtM84avVITc-CUiiGXNnwcHMo0=/180x240/v1.bTsxMTIzNTg4NztqOzE3OTY3OzIwNDg7MjkxMDszODgw\"}, \"18\": {\"index\": 18, \"movie_title\": \"Girlfight\", \"year\": 2000, \"href\": \"https://www.rottentomatoes.com/m/girlfight/\", \"img\": \"https://resizing.flixster.com/c2ztX3nTmNzo4jqPZI2cGit9y5E=/180x240/v1.bTsxMTI5MTU2MztqOzE3OTc4OzIwNDg7MTUzNjsyMDQ4\"}, \"17\": {\"index\": 17, \"movie_title\": \"Requiem for a Heavyweight\", \"year\": 1962, \"href\": \"https://www.rottentomatoes.com/m/1080265-requiem_for_a_heavyweight/\", \"img\": \"https://resizing.flixster.com/xHyWj5fv4LPTOglQAaN8-SsQDQE=/180x240/v1.bTsxMTIxNDM2NjtqOzE3OTU1OzIwNDg7MTgwMDsyNDAw\"}, \"16\": {\"index\": 16, \"movie_title\": \"Champion\", \"year\": 1949, \"href\": \"https://www.rottentomatoes.com/m/1003857-champion/\", \"img\": \"https://resizing.flixster.com/VtiD8vSkYsZmuQACV93ZcPxlQUA=/180x240/v1.bTsxMTYyMDM4NTtqOzE3OTg5OzIwNDg7NDk4OzY2NA\"}, \"15\": {\"index\": 15, \"movie_title\": \"Rocco and His Brothers (Rocco e i suoi fratelli)\", \"year\": 1961, \"href\": \"https://www.rottentomatoes.com/m/rocco_and_his_brothers/\", \"img\": \"https://resizing.flixster.com/sT0lrlewoGPThRe18W2UTusRYmo=/180x240/v1.bTsxMTIwNjQ2MDtqOzE3OTY5OzIwNDg7MTUzMDsyMDQw\"}, \"14\": {\"index\": 14, \"movie_title\": \"Knuckle\", \"year\": 2011, \"href\": \"https://www.rottentomatoes.com/m/knuckle_2011/\", \"img\": \"https://resizing.flixster.com/GRL01ggpvG-VYIrEnt_ylAvoOCE=/180x266/v1.bTsxMTE2MDM4MTtqOzE3OTcwOzIwNDg7NTExOzc1NQ\"}, \"13\": {\"index\": 13, \"movie_title\": \"The Fighter\", \"year\": 2010, \"href\": \"https://www.rottentomatoes.com/m/the_fighter_2011/\", \"img\": \"https://resizing.flixster.com/g4JHNUf9OYL1zsquMicEBcOT3tQ=/180x270/v1.bTsxMTE2ODkzOTtqOzE3OTc4OzIwNDg7ODAwOzEyMDA\"}, \"12\": {\"index\": 12, \"movie_title\": \"The Quiet Man\", \"year\": 1952, \"href\": \"https://www.rottentomatoes.com/m/quiet_man/\", \"img\": \"https://resizing.flixster.com/RZAg8TPNKxDDgXfijgDrY4wE3jc=/180x240/v1.bTsxMTIwNTgwOTtqOzE3OTkzOzIwNDg7MTUxMjsyMDE2\"}, \"11\": {\"index\": 11, \"movie_title\": \"Million Dollar Baby\", \"year\": 2004, \"href\": \"https://www.rottentomatoes.com/m/million_dollar_baby/\", \"img\": \"https://resizing.flixster.com/Ii6a6U9w2d941JjZYGOSzLDbfYE=/180x270/v1.bTsxMTE2ODEwNjtqOzE3OTU1OzIwNDg7ODAwOzEyMDA\"}, \"10\": {\"index\": 10, \"movie_title\": \"Rocky\", \"year\": 1976, \"href\": \"https://www.rottentomatoes.com/m/1017776-rocky/\", \"img\": \"https://resizing.flixster.com/Rydu3y8e-hRy1t-Qlf9jnYGU4hw=/180x240/v1.bTsxMTYxNDM4NTtqOzE3OTc0OzIwNDg7NzE0Ozk1Mg\"}, \"9\": {\"index\": 9, \"movie_title\": \"When We Were Kings\", \"year\": 1996, \"href\": \"https://www.rottentomatoes.com/m/when_we_were_kings/\", \"img\": \"https://resizing.flixster.com/Zbhz3FWNAdx8Cm_jJkRxAu2UNzw=/180x240/v1.bTsxMTYxNDY2NztqOzE3OTg2OzIwNDg7Nzk4OzEwNjQ\"}, \"8\": {\"index\": 8, \"movie_title\": \"Hard Times\", \"year\": 1975, \"href\": \"https://www.rottentomatoes.com/m/1009211-hard_times/\", \"img\": \"https://resizing.flixster.com/v9mlUOg57VH4rUsf-aQelYf-G-k=/180x240/v1.bTsxMTIwNDQzNztqOzE3OTcxOzIwNDg7MTUzNjsyMDQ4\"}, \"7\": {\"index\": 7, \"movie_title\": \"The Harder They Fall\", \"year\": 1956, \"href\": \"https://www.rottentomatoes.com/m/1009224-harder_they_fall/\", \"img\": \"https://resizing.flixster.com/Pq8NVi_HPIezfZBR--y8I5tMsy4=/180x240/v1.bTsxMTIwNjQyNDtqOzE3OTc4OzIwNDg7MTUzNjsyMDQ4\"}, \"6\": {\"index\": 6, \"movie_title\": \"Gentleman Jim\", \"year\": 1942, \"href\": \"https://www.rottentomatoes.com/m/gentleman_jim/\", \"img\": \"https://resizing.flixster.com/UK6ZmltQQR-BiMyNS8wzvjMyJ6g=/180x240/v1.bTsxMTIxOTQwODtqOzE3OTU3OzIwNDg7MTk5ODsyNjY0\"}, \"5\": {\"index\": 5, \"movie_title\": \"Body and Soul\", \"year\": 1947, \"href\": \"https://www.rottentomatoes.com/m/body_and_soul_1947/\", \"img\": \"https://resizing.flixster.com/PddNNauXF0BS4XSM2Wh-iGWaIFI=/180x240/v1.bTsxMTYyMDgwNTtqOzE3OTU5OzIwNDg7MzE1OzQyMA\"}, \"4\": {\"index\": 4, \"movie_title\": \"Raging Bull\", \"year\": 1980, \"href\": \"https://www.rottentomatoes.com/m/raging_bull/\", \"img\": \"https://resizing.flixster.com/mgbLDKJySlywJ2ZT63dkVlqCI64=/180x240/v1.bTsxMTI5MTgwOTtqOzE3OTU0OzIwNDg7MTUzNjsyMDQ4\"}, \"3\": {\"index\": 3, \"movie_title\": \"The Happiest Day in the Life of Olli M\\\\u00e4ki (Hymyilev\\\\u00e4 mies)\", \"year\": 2017, \"href\": \"https://www.rottentomatoes.com/m/the_happiest_day_in_the_life_of_olli_maki_2017/\", \"img\": \"https://resizing.flixster.com/AvX9luCheJyxB1oOR07vKf-lsw4=/180x264/v1.bTsxMjM1MDcxNztqOzE3OTM0OzIwNDg7NDUwOzY1OQ\"}, \"2\": {\"index\": 2, \"movie_title\": \"Fat City\", \"year\": 1972, \"href\": \"https://www.rottentomatoes.com/m/fat_city/\", \"img\": \"https://resizing.flixster.com/60eHpgKPod9B5vxBfyahvriztAA=/180x240/v1.bTsxMTIwODA3MDtqOzE3OTU5OzIwNDg7MTUzNjsyMDQ4\"}, \"1\": {\"index\": 1, \"movie_title\": \"Creed\", \"year\": 2015, \"href\": \"https://www.rottentomatoes.com/m/creed_2015/\", \"img\": \"https://resizing.flixster.com/gjV5dBNgv2mGgY4WAD-rt97cacc=/180x267/v1.bTsxMTIyNjAyNjtqOzE3OTYwOzIwNDg7NTc0Ozg1MQ\"}}'"
      ]
     },
     "execution_count": 108,
     "metadata": {},
     "output_type": "execute_result"
    }
   ],
   "source": [
    "json_text = text[0]\n",
    "json_text"
   ]
  },
  {
   "cell_type": "code",
   "execution_count": 115,
   "metadata": {},
   "outputs": [
    {
     "data": {
      "text/plain": [
       "True"
      ]
     },
     "execution_count": 115,
     "metadata": {},
     "output_type": "execute_result"
    }
   ],
   "source": [
    "f.closed"
   ]
  },
  {
   "cell_type": "code",
   "execution_count": 117,
   "metadata": {},
   "outputs": [
    {
     "ename": "ValueError",
     "evalue": "I/O operation on closed file.",
     "output_type": "error",
     "traceback": [
      "\u001b[0;31m---------------------------------------------------------------------------\u001b[0m",
      "\u001b[0;31mValueError\u001b[0m                                Traceback (most recent call last)",
      "\u001b[0;32m<ipython-input-117-275d2a296781>\u001b[0m in \u001b[0;36m<module>\u001b[0;34m()\u001b[0m\n\u001b[0;32m----> 1\u001b[0;31m \u001b[0mf\u001b[0m\u001b[0;34m.\u001b[0m\u001b[0mwrite\u001b[0m\u001b[0;34m(\u001b[0m\u001b[0;34m\"1\"\u001b[0m\u001b[0;34m)\u001b[0m\u001b[0;34m\u001b[0m\u001b[0m\n\u001b[0m",
      "\u001b[0;31mValueError\u001b[0m: I/O operation on closed file."
     ]
    }
   ],
   "source": [
    "f.write(\"1\")"
   ]
  },
  {
   "cell_type": "code",
   "execution_count": 119,
   "metadata": {},
   "outputs": [
    {
     "name": "stdout",
     "output_type": "stream",
     "text": [
      "type the number: 안녕\n"
     ]
    },
    {
     "ename": "ValueError",
     "evalue": "invalid literal for int() with base 10: '안녕'",
     "output_type": "error",
     "traceback": [
      "\u001b[0;31m---------------------------------------------------------------------------\u001b[0m",
      "\u001b[0;31mValueError\u001b[0m                                Traceback (most recent call last)",
      "\u001b[0;32m<ipython-input-119-ef086825e73d>\u001b[0m in \u001b[0;36m<module>\u001b[0;34m()\u001b[0m\n\u001b[0;32m----> 1\u001b[0;31m \u001b[0msome_num\u001b[0m \u001b[0;34m=\u001b[0m \u001b[0mint\u001b[0m\u001b[0;34m(\u001b[0m\u001b[0minput\u001b[0m\u001b[0;34m(\u001b[0m\u001b[0;34m\"type the number: \"\u001b[0m\u001b[0;34m)\u001b[0m\u001b[0;34m)\u001b[0m\u001b[0;34m\u001b[0m\u001b[0m\n\u001b[0m",
      "\u001b[0;31mValueError\u001b[0m: invalid literal for int() with base 10: '안녕'"
     ]
    }
   ],
   "source": [
    "some_num = int(input(\"type the number: \"))"
   ]
  },
  {
   "cell_type": "code",
   "execution_count": 122,
   "metadata": {},
   "outputs": [
    {
     "name": "stdout",
     "output_type": "stream",
     "text": [
      "type the number: 안녕\n",
      "I said Number!!!!!!!!!! \n",
      "type the number: 12\n"
     ]
    }
   ],
   "source": [
    "try:\n",
    "    some_num = int(input(\"type the number: \"))\n",
    "except:\n",
    "    print(\"I said Number!!!!!!!!!! \")\n",
    "    some_num = int(input(\"type the number: \"))"
   ]
  },
  {
   "cell_type": "code",
   "execution_count": 123,
   "metadata": {},
   "outputs": [
    {
     "data": {
      "text/plain": [
       "12"
      ]
     },
     "execution_count": 123,
     "metadata": {},
     "output_type": "execute_result"
    }
   ],
   "source": [
    "some_num"
   ]
  },
  {
   "cell_type": "code",
   "execution_count": 126,
   "metadata": {},
   "outputs": [],
   "source": [
    "def get_num():\n",
    "    try:\n",
    "        some_num = int(input(\"Type the number: \"))\n",
    "        return some_num\n",
    "    except ValueError as e:\n",
    "        print(\"I said number!!!!\")\n",
    "        print(e)\n",
    "        get_num()"
   ]
  },
  {
   "cell_type": "code",
   "execution_count": 127,
   "metadata": {},
   "outputs": [
    {
     "name": "stdout",
     "output_type": "stream",
     "text": [
      "Type the number: 안녕\n",
      "I said number!!!!\n",
      "invalid literal for int() with base 10: '안녕'\n",
      "Type the number: 12\n"
     ]
    }
   ],
   "source": [
    "get_num()"
   ]
  },
  {
   "cell_type": "code",
   "execution_count": null,
   "metadata": {},
   "outputs": [],
   "source": [
    "try:\n",
    "    user_filename = input(\"Enter Filename: \")\n",
    "    with open(user_filename, 'r') as f:\n",
    "        text = f.readlines()\n",
    "        for item in text:\n",
    "            print(text)\n",
    "        print(users_filename)\n",
    "except FileNotFoundError as e:\n",
    "    print(e)\n",
    "except NameError as e:\n",
    "    print(e)"
   ]
  },
  {
   "cell_type": "code",
   "execution_count": 138,
   "metadata": {},
   "outputs": [
    {
     "name": "stdout",
     "output_type": "stream",
     "text": [
      "type the number: 12\n",
      "else reached\n",
      "finished anyway\n"
     ]
    }
   ],
   "source": [
    "try:\n",
    "    some_num = int(input(\"type the number: \"))\n",
    "except:\n",
    "    print(\"I said Number!!!!!!!!!! \")\n",
    "    some_num = int(input(\"type the number: \"))\n",
    "else:\n",
    "    print(\"else reached\")\n",
    "finally:\n",
    "    print(\"finished anyway\")"
   ]
  },
  {
   "cell_type": "code",
   "execution_count": 139,
   "metadata": {},
   "outputs": [
    {
     "name": "stdout",
     "output_type": "stream",
     "text": [
      "type the number: 안녕\n",
      "I said Number!!!!!!!!!! \n",
      "type the number: 12\n",
      "finished anyway\n"
     ]
    }
   ],
   "source": [
    "try:\n",
    "    some_num = int(input(\"type the number: \"))\n",
    "except:\n",
    "    print(\"I said Number!!!!!!!!!! \")\n",
    "    some_num = int(input(\"type the number: \"))\n",
    "else:\n",
    "    print(\"else reached\")\n",
    "finally:\n",
    "    print(\"finished anyway\")"
   ]
  },
  {
   "cell_type": "code",
   "execution_count": null,
   "metadata": {},
   "outputs": [],
   "source": []
  },
  {
   "cell_type": "code",
   "execution_count": null,
   "metadata": {},
   "outputs": [],
   "source": []
  },
  {
   "cell_type": "code",
   "execution_count": null,
   "metadata": {},
   "outputs": [],
   "source": []
  },
  {
   "cell_type": "code",
   "execution_count": null,
   "metadata": {},
   "outputs": [],
   "source": []
  },
  {
   "cell_type": "code",
   "execution_count": null,
   "metadata": {},
   "outputs": [],
   "source": []
  },
  {
   "cell_type": "code",
   "execution_count": null,
   "metadata": {},
   "outputs": [],
   "source": []
  },
  {
   "cell_type": "code",
   "execution_count": null,
   "metadata": {},
   "outputs": [],
   "source": []
  },
  {
   "cell_type": "code",
   "execution_count": null,
   "metadata": {},
   "outputs": [],
   "source": []
  },
  {
   "cell_type": "code",
   "execution_count": null,
   "metadata": {},
   "outputs": [],
   "source": []
  },
  {
   "cell_type": "code",
   "execution_count": null,
   "metadata": {},
   "outputs": [],
   "source": []
  },
  {
   "cell_type": "code",
   "execution_count": null,
   "metadata": {},
   "outputs": [],
   "source": []
  }
 ],
 "metadata": {
  "kernelspec": {
   "display_name": "Python 3",
   "language": "python",
   "name": "python3"
  },
  "language_info": {
   "codemirror_mode": {
    "name": "ipython",
    "version": 3
   },
   "file_extension": ".py",
   "mimetype": "text/x-python",
   "name": "python",
   "nbconvert_exporter": "python",
   "pygments_lexer": "ipython3",
   "version": "3.6.4"
  }
 },
 "nbformat": 4,
 "nbformat_minor": 2
}
