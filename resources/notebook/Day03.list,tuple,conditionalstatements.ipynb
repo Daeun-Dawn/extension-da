{
 "cells": [
  {
   "cell_type": "code",
   "execution_count": 1,
   "metadata": {},
   "outputs": [],
   "source": [
    "fast = [1,2,3,4]\n",
    "campus = [5,6,7]"
   ]
  },
  {
   "cell_type": "code",
   "execution_count": 2,
   "metadata": {},
   "outputs": [
    {
     "data": {
      "text/plain": [
       "[1, 2, 3, 4, 5, 6, 7]"
      ]
     },
     "execution_count": 2,
     "metadata": {},
     "output_type": "execute_result"
    }
   ],
   "source": [
    "fast + campus"
   ]
  },
  {
   "cell_type": "code",
   "execution_count": 3,
   "metadata": {},
   "outputs": [
    {
     "data": {
      "text/plain": [
       "[1, 2, 3, 4, 5, 6, 7]"
      ]
     },
     "execution_count": 3,
     "metadata": {},
     "output_type": "execute_result"
    }
   ],
   "source": [
    "fast.extend(campus)\n",
    "fast"
   ]
  },
  {
   "cell_type": "code",
   "execution_count": 4,
   "metadata": {},
   "outputs": [
    {
     "data": {
      "text/plain": [
       "True"
      ]
     },
     "execution_count": 4,
     "metadata": {},
     "output_type": "execute_result"
    }
   ],
   "source": [
    "3 in fast"
   ]
  },
  {
   "cell_type": "code",
   "execution_count": 5,
   "metadata": {},
   "outputs": [
    {
     "data": {
      "text/plain": [
       "False"
      ]
     },
     "execution_count": 5,
     "metadata": {},
     "output_type": "execute_result"
    }
   ],
   "source": [
    "9 in fast"
   ]
  },
  {
   "cell_type": "code",
   "execution_count": 6,
   "metadata": {},
   "outputs": [
    {
     "data": {
      "text/plain": [
       "True"
      ]
     },
     "execution_count": 6,
     "metadata": {},
     "output_type": "execute_result"
    }
   ],
   "source": [
    "8 not in fast"
   ]
  },
  {
   "cell_type": "code",
   "execution_count": 7,
   "metadata": {},
   "outputs": [
    {
     "data": {
      "text/plain": [
       "False"
      ]
     },
     "execution_count": 7,
     "metadata": {},
     "output_type": "execute_result"
    }
   ],
   "source": [
    "3 not in fast"
   ]
  },
  {
   "cell_type": "code",
   "execution_count": 9,
   "metadata": {},
   "outputs": [
    {
     "data": {
      "text/plain": [
       "[1, 2, 100, 4, 5, 6, 7]"
      ]
     },
     "execution_count": 9,
     "metadata": {},
     "output_type": "execute_result"
    }
   ],
   "source": [
    "fast[2] = 100\n",
    "fast"
   ]
  },
  {
   "cell_type": "code",
   "execution_count": 10,
   "metadata": {},
   "outputs": [
    {
     "data": {
      "text/plain": [
       "(1, 2)"
      ]
     },
     "execution_count": 10,
     "metadata": {},
     "output_type": "execute_result"
    }
   ],
   "source": [
    "some_tuple = (1,2)\n",
    "some_tuple"
   ]
  },
  {
   "cell_type": "code",
   "execution_count": 11,
   "metadata": {},
   "outputs": [
    {
     "ename": "TypeError",
     "evalue": "'tuple' object does not support item assignment",
     "output_type": "error",
     "traceback": [
      "\u001b[0;31m---------------------------------------------------------------------------\u001b[0m",
      "\u001b[0;31mTypeError\u001b[0m                                 Traceback (most recent call last)",
      "\u001b[0;32m<ipython-input-11-d552287172ca>\u001b[0m in \u001b[0;36m<module>\u001b[0;34m()\u001b[0m\n\u001b[0;32m----> 1\u001b[0;31m \u001b[0msome_tuple\u001b[0m\u001b[0;34m[\u001b[0m\u001b[0;36m1\u001b[0m\u001b[0;34m]\u001b[0m \u001b[0;34m=\u001b[0m \u001b[0;36m100\u001b[0m\u001b[0;34m\u001b[0m\u001b[0m\n\u001b[0m",
      "\u001b[0;31mTypeError\u001b[0m: 'tuple' object does not support item assignment"
     ]
    }
   ],
   "source": [
    "some_tuple[1] = 100"
   ]
  },
  {
   "cell_type": "code",
   "execution_count": 12,
   "metadata": {},
   "outputs": [
    {
     "data": {
      "text/plain": [
       "()"
      ]
     },
     "execution_count": 12,
     "metadata": {},
     "output_type": "execute_result"
    }
   ],
   "source": [
    "empty_tuple = ()\n",
    "empty_tuple"
   ]
  },
  {
   "cell_type": "code",
   "execution_count": 13,
   "metadata": {},
   "outputs": [
    {
     "ename": "AttributeError",
     "evalue": "'tuple' object has no attribute 'append'",
     "output_type": "error",
     "traceback": [
      "\u001b[0;31m---------------------------------------------------------------------------\u001b[0m",
      "\u001b[0;31mAttributeError\u001b[0m                            Traceback (most recent call last)",
      "\u001b[0;32m<ipython-input-13-c49c8f3349f0>\u001b[0m in \u001b[0;36m<module>\u001b[0;34m()\u001b[0m\n\u001b[0;32m----> 1\u001b[0;31m \u001b[0mempty_tuple\u001b[0m\u001b[0;34m.\u001b[0m\u001b[0mappend\u001b[0m\u001b[0;34m(\u001b[0m\u001b[0;36m1\u001b[0m\u001b[0;34m)\u001b[0m\u001b[0;34m\u001b[0m\u001b[0m\n\u001b[0m",
      "\u001b[0;31mAttributeError\u001b[0m: 'tuple' object has no attribute 'append'"
     ]
    }
   ],
   "source": [
    "empty_tuple.append(1)"
   ]
  },
  {
   "cell_type": "code",
   "execution_count": 14,
   "metadata": {},
   "outputs": [],
   "source": [
    "def multiple_return(num):\n",
    "    result = num + 2\n",
    "    return (num, result)"
   ]
  },
  {
   "cell_type": "code",
   "execution_count": 15,
   "metadata": {},
   "outputs": [
    {
     "data": {
      "text/plain": [
       "(2, 4)"
      ]
     },
     "execution_count": 15,
     "metadata": {},
     "output_type": "execute_result"
    }
   ],
   "source": [
    "multiple_return(2)"
   ]
  },
  {
   "cell_type": "code",
   "execution_count": 16,
   "metadata": {},
   "outputs": [
    {
     "name": "stdout",
     "output_type": "stream",
     "text": [
      "1 2\n"
     ]
    }
   ],
   "source": [
    "a = 1\n",
    "b = 2\n",
    "print(a,b)"
   ]
  },
  {
   "cell_type": "code",
   "execution_count": 18,
   "metadata": {},
   "outputs": [
    {
     "name": "stdout",
     "output_type": "stream",
     "text": [
      "1 1\n"
     ]
    }
   ],
   "source": [
    "b = a\n",
    "a = b\n",
    "print(a,b)"
   ]
  },
  {
   "cell_type": "code",
   "execution_count": 19,
   "metadata": {},
   "outputs": [
    {
     "name": "stdout",
     "output_type": "stream",
     "text": [
      "2 1\n"
     ]
    }
   ],
   "source": [
    "a = 1\n",
    "b = 2\n",
    "\n",
    "temp = b\n",
    "b = a\n",
    "a = temp\n",
    "print(a,b)"
   ]
  },
  {
   "cell_type": "code",
   "execution_count": 20,
   "metadata": {},
   "outputs": [
    {
     "name": "stdout",
     "output_type": "stream",
     "text": [
      "2 1\n"
     ]
    }
   ],
   "source": [
    "a = 1\n",
    "b = 2\n",
    "(a, b) = (b, a)\n",
    "print(a, b)"
   ]
  },
  {
   "cell_type": "code",
   "execution_count": 23,
   "metadata": {},
   "outputs": [
    {
     "data": {
      "text/plain": [
       "('python', 'java', 'c', 'cplus', 'golang')"
      ]
     },
     "execution_count": 23,
     "metadata": {},
     "output_type": "execute_result"
    }
   ],
   "source": [
    "some_tuple = ('python', 'java', 'c', 'cplus', 'golang')\n",
    "some_tuple"
   ]
  },
  {
   "cell_type": "code",
   "execution_count": 29,
   "metadata": {},
   "outputs": [
    {
     "data": {
      "text/plain": [
       "('python',\n",
       " 'java',\n",
       " 'c',\n",
       " 'cplus',\n",
       " 'golang',\n",
       " 'julia',\n",
       " 'julia',\n",
       " 'julia',\n",
       " 'julia',\n",
       " 'julia')"
      ]
     },
     "execution_count": 29,
     "metadata": {},
     "output_type": "execute_result"
    }
   ],
   "source": [
    "some_listed = list(some_tuple)\n",
    "some_listed.append('julia')\n",
    "some_tuple = tuple(some_listed)\n",
    "some_tuple"
   ]
  },
  {
   "cell_type": "code",
   "execution_count": 43,
   "metadata": {},
   "outputs": [
    {
     "data": {
      "text/plain": [
       "[[1, 0, 0], [0, 1, 0], [0, 0, 1]]"
      ]
     },
     "execution_count": 43,
     "metadata": {},
     "output_type": "execute_result"
    }
   ],
   "source": [
    "# 이렇게 하시면 안됩니다 => [[],[],[],[],[],[],[],[],[]]\n",
    "three_by_three = []\n",
    "three_by_three.append([1,0,0])\n",
    "three_by_three.append([0,1,0])\n",
    "three_by_three.append([0,0,1])\n",
    "three_by_three"
   ]
  },
  {
   "cell_type": "code",
   "execution_count": 44,
   "metadata": {},
   "outputs": [
    {
     "data": {
      "text/plain": [
       "0.102301"
      ]
     },
     "execution_count": 44,
     "metadata": {},
     "output_type": "execute_result"
    }
   ],
   "source": [
    "# 0.000001 + 0.1023 = 0.102301\n",
    "result = 0.10230100000000008\n",
    "result = round(result, 6)\n",
    "result"
   ]
  },
  {
   "cell_type": "markdown",
   "metadata": {},
   "source": [
    "## 조건문"
   ]
  },
  {
   "cell_type": "code",
   "execution_count": 48,
   "metadata": {},
   "outputs": [
    {
     "name": "stdout",
     "output_type": "stream",
     "text": [
      "a is 10.\n",
      "a is now eleven. 11\n"
     ]
    }
   ],
   "source": [
    "a = 10\n",
    "if a == 10:\n",
    "    print(\"a is 10.\")\n",
    "    a += 1 # a = a + 1\n",
    "    print(\"a is now eleven.\", a)"
   ]
  },
  {
   "cell_type": "code",
   "execution_count": 49,
   "metadata": {},
   "outputs": [
    {
     "name": "stdout",
     "output_type": "stream",
     "text": [
      "a is not 10.\n"
     ]
    }
   ],
   "source": [
    "a = 9\n",
    "if a == 10:\n",
    "    print(\"a is 10.\")\n",
    "else:\n",
    "    print(\"a is not 10.\")"
   ]
  },
  {
   "cell_type": "code",
   "execution_count": 68,
   "metadata": {},
   "outputs": [
    {
     "name": "stdout",
     "output_type": "stream",
     "text": [
      "a is not 10.\n"
     ]
    }
   ],
   "source": [
    "a = 9\n",
    "if a == 10:\n",
    "    result = \"a is 10.\"\n",
    "else:\n",
    "    result = \"a is not 10.\"\n",
    "\n",
    "print(result)"
   ]
  },
  {
   "cell_type": "code",
   "execution_count": 70,
   "metadata": {},
   "outputs": [
    {
     "name": "stdout",
     "output_type": "stream",
     "text": [
      "a is not 10.\n"
     ]
    }
   ],
   "source": [
    "# Conditional Expressions\n",
    "a = 9\n",
    "result = \"a is 10.\" if a == 10 else \"a is not 10.\"\n",
    "print(result)"
   ]
  },
  {
   "cell_type": "code",
   "execution_count": 72,
   "metadata": {},
   "outputs": [
    {
     "name": "stdout",
     "output_type": "stream",
     "text": [
      "a is 9.\n"
     ]
    }
   ],
   "source": [
    "a = 9\n",
    "if a == 10:\n",
    "    result = \"a is 10.\"\n",
    "else:\n",
    "    if a == 9:\n",
    "        result = \"a is 9.\"\n",
    "    else:\n",
    "        result = \"a is not 10 nor 9.\"\n",
    "print(result)"
   ]
  },
  {
   "cell_type": "code",
   "execution_count": 73,
   "metadata": {},
   "outputs": [
    {
     "name": "stdout",
     "output_type": "stream",
     "text": [
      "a is 9\n"
     ]
    }
   ],
   "source": [
    "# Conditional Expressions\n",
    "a = 9\n",
    "result = \"a is 10\" if a==10 else \"a is 9\" if a==9 else \"a is not 10 nor 9\"\n",
    "print(result)"
   ]
  },
  {
   "cell_type": "code",
   "execution_count": 51,
   "metadata": {},
   "outputs": [
    {
     "name": "stdout",
     "output_type": "stream",
     "text": [
      "b는 5보다 같거나 큽니다.\n",
      "b는 5보다 같거나 큽니다.\n"
     ]
    }
   ],
   "source": [
    "b = 10\n",
    "# b가 5보다 작을때, \"b는 5보다 작습니다\"\n",
    "# b가 5보다 같거나 클때, \"b는 5보다 같거나 큽니다\"\n",
    "\n",
    "if b < 5:\n",
    "    print(\"b는 5보다 작습니다.\")\n",
    "else:\n",
    "    print(\"b는 5보다 같거나 큽니다.\")\n",
    "    \n",
    "if b >= 5:\n",
    "    print(\"b는 5보다 같거나 큽니다.\")\n",
    "else:\n",
    "    print(\"b는 5보다 작습니다.\")"
   ]
  },
  {
   "cell_type": "code",
   "execution_count": 53,
   "metadata": {},
   "outputs": [
    {
     "name": "stdout",
     "output_type": "stream",
     "text": [
      "b는 5보다 크거나 같고, 20보다 작습니다.\n"
     ]
    }
   ],
   "source": [
    "b = 10\n",
    "if b < 5:\n",
    "    print(\"b는 5보다 작습니다.\")\n",
    "else:\n",
    "    if b < 20:\n",
    "        print(\"b는 5보다 크거나 같고, 20보다 작습니다.\")\n",
    "    else:\n",
    "        if b < 50:\n",
    "            print(\"20<=b<50\")\n",
    "        else:\n",
    "            print(\"b>50\")"
   ]
  },
  {
   "cell_type": "code",
   "execution_count": 54,
   "metadata": {},
   "outputs": [
    {
     "name": "stdout",
     "output_type": "stream",
     "text": [
      "b는 5보다 크거나 같고, 20보다 작습니다.\n"
     ]
    }
   ],
   "source": [
    "b = 10\n",
    "if b < 5:\n",
    "    print(\"b는 5보다 작습니다.\")\n",
    "elif b < 20:\n",
    "    print(\"b는 5보다 크거나 같고, 20보다 작습니다.\")\n",
    "elif b < 50:\n",
    "    print(\"20<=b<50\")\n",
    "else:\n",
    "    print(\"b>50\")"
   ]
  },
  {
   "cell_type": "code",
   "execution_count": 66,
   "metadata": {},
   "outputs": [
    {
     "name": "stdout",
     "output_type": "stream",
     "text": [
      "77\n",
      "Guess the number(1 to 100): 10\n",
      "Game over! The answer was 77\n"
     ]
    }
   ],
   "source": [
    "# Numguess\n",
    "# TODO: 크레딧 -> 보상과 패널티(크레딧 관련)\n",
    "# 여러번 -> 힌트(up&down,)\n",
    "# 단계별 점수 -> 보상과 패널티\n",
    "# 랭킹...(PM이 거절함)\n",
    "import random\n",
    "\n",
    "answer = random.randint(1,100)\n",
    "print(answer)\n",
    "\n",
    "guess = int(input(\"Guess the number(1 to 100): \"))\n",
    "\n",
    "if guess == answer:\n",
    "    print(\"Congrats!!!! The answer was {}\".format(answer))\n",
    "else:\n",
    "    print(\"Game over! The answer was {}\".format(answer))\n"
   ]
  },
  {
   "cell_type": "code",
   "execution_count": 74,
   "metadata": {},
   "outputs": [
    {
     "data": {
      "text/plain": [
       "True"
      ]
     },
     "execution_count": 74,
     "metadata": {},
     "output_type": "execute_result"
    }
   ],
   "source": [
    "1 in [1,2,3,4,5]"
   ]
  },
  {
   "cell_type": "code",
   "execution_count": 78,
   "metadata": {},
   "outputs": [
    {
     "name": "stdout",
     "output_type": "stream",
     "text": [
      "월요일\n"
     ]
    },
    {
     "data": {
      "text/plain": [
       "'월'"
      ]
     },
     "execution_count": 78,
     "metadata": {},
     "output_type": "execute_result"
    }
   ],
   "source": [
    "input_ = input()\n",
    "input_[0]"
   ]
  },
  {
   "cell_type": "code",
   "execution_count": 92,
   "metadata": {},
   "outputs": [
    {
     "name": "stdout",
     "output_type": "stream",
     "text": [
      "월요일\n",
      "월\n",
      "평일입니다.\n"
     ]
    }
   ],
   "source": [
    "weekday = [\"월\",\"화\",\"수\",\"목\",\"금\"]\n",
    "weekend = [\"토\",\"일\"]\n",
    "\n",
    "user_day = input()\n",
    "user_day = user_day[0]\n",
    "    \n",
    "print(user_day)\n",
    "\n",
    "if user_day in weekday:\n",
    "    print(\"평일입니다.\")\n",
    "else:\n",
    "    if user_day in weekend:\n",
    "        print(\"주말입니다. 데헷\")\n",
    "    else:\n",
    "        print(\"값을 다시 입력해라(Type again)\")"
   ]
  },
  {
   "cell_type": "code",
   "execution_count": 95,
   "metadata": {},
   "outputs": [
    {
     "name": "stdout",
     "output_type": "stream",
     "text": [
      "월화수\n",
      "한글자만 입력하거나 요일 외의 다른 글자를 쓰지 마라! \n"
     ]
    }
   ],
   "source": [
    "weekday = [\"월\",\"화\",\"수\",\"목\",\"금\"]\n",
    "weekend = [\"토\",\"일\"]\n",
    "\n",
    "user_day = input()\n",
    "# \"월화수\"와 같은 오입력 방지\n",
    "if len(user_day) > 1 and user_day[-2:] != \"요일\":\n",
    "    print(\"한글자만 입력하거나 요일 외의 다른 글자를 쓰지 마라! \")\n",
    "else:\n",
    "    user_day = user_day[0]\n",
    "\n",
    "    print(user_day)\n",
    "\n",
    "    if user_day in weekday:\n",
    "        print(\"평일입니다.\")\n",
    "    else:\n",
    "        if user_day in weekend:\n",
    "            print(\"주말입니다. 데헷\")\n",
    "        else:\n",
    "            print(\"값을 다시 입력해라(Type again)\")"
   ]
  }
 ],
 "metadata": {
  "kernelspec": {
   "display_name": "Python 3",
   "language": "python",
   "name": "python3"
  },
  "language_info": {
   "codemirror_mode": {
    "name": "ipython",
    "version": 3
   },
   "file_extension": ".py",
   "mimetype": "text/x-python",
   "name": "python",
   "nbconvert_exporter": "python",
   "pygments_lexer": "ipython3",
   "version": "3.6.4"
  }
 },
 "nbformat": 4,
 "nbformat_minor": 2
}
