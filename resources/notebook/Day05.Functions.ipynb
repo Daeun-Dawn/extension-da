{
 "cells": [
  {
   "cell_type": "code",
   "execution_count": null,
   "metadata": {},
   "outputs": [],
   "source": [
    "# 1 to 100\n",
    "# 3,5,15 \n",
    "\n",
    "for i in range(1,100+1):\n",
    "    # step1: print(i)\n",
    "    # step2 3의 배수\n",
    "    if i%15==0:\n",
    "        print(\"fizzbuzz\")\n",
    "    # step3 5의 배수    \n",
    "    elif i%3==0:\n",
    "        print(\"fizz\")\n",
    "    elif i%5==0:\n",
    "        print(\"buzz\")\n",
    "    else: \n",
    "        print(i)"
   ]
  },
  {
   "cell_type": "code",
   "execution_count": null,
   "metadata": {
    "scrolled": true
   },
   "outputs": [],
   "source": [
    "# fizzbuzz in 1 if\n",
    "for i in range(1,100+1):\n",
    "    if i%3==0 or i%5==0:\n",
    "        result = \"fizz\" * (i%3==0) + \"buzz\" * (i%5==0)\n",
    "    else:\n",
    "        result = i\n",
    "    print(result)"
   ]
  },
  {
   "cell_type": "code",
   "execution_count": 22,
   "metadata": {},
   "outputs": [
    {
     "name": "stdout",
     "output_type": "stream",
     "text": [
      "1\n",
      "2\n",
      "fizz\n",
      "4\n",
      "buzz\n",
      "fizz\n",
      "7\n",
      "8\n",
      "fizz\n",
      "buzz\n",
      "11\n",
      "fizz\n",
      "13\n",
      "14\n",
      "fizzbuzz\n",
      "16\n",
      "17\n",
      "fizz\n",
      "19\n",
      "buzz\n",
      "fizz\n",
      "22\n",
      "23\n",
      "fizz\n",
      "buzz\n",
      "26\n",
      "fizz\n",
      "28\n",
      "29\n",
      "fizzbuzz\n",
      "31\n",
      "32\n",
      "fizz\n",
      "34\n",
      "buzz\n",
      "fizz\n",
      "37\n",
      "38\n",
      "fizz\n",
      "buzz\n",
      "41\n",
      "fizz\n",
      "43\n",
      "44\n",
      "fizzbuzz\n",
      "46\n",
      "47\n",
      "fizz\n",
      "49\n",
      "buzz\n",
      "fizz\n",
      "52\n",
      "53\n",
      "fizz\n",
      "buzz\n",
      "56\n",
      "fizz\n",
      "58\n",
      "59\n",
      "fizzbuzz\n",
      "61\n",
      "62\n",
      "fizz\n",
      "64\n",
      "buzz\n",
      "fizz\n",
      "67\n",
      "68\n",
      "fizz\n",
      "buzz\n",
      "71\n",
      "fizz\n",
      "73\n",
      "74\n",
      "fizzbuzz\n",
      "76\n",
      "77\n",
      "fizz\n",
      "79\n",
      "buzz\n",
      "fizz\n",
      "82\n",
      "83\n",
      "fizz\n",
      "buzz\n",
      "86\n",
      "fizz\n",
      "88\n",
      "89\n",
      "fizzbuzz\n",
      "91\n",
      "92\n",
      "fizz\n",
      "94\n",
      "buzz\n",
      "fizz\n",
      "97\n",
      "98\n",
      "fizz\n",
      "buzz\n"
     ]
    }
   ],
   "source": [
    "# Fizzbuzz in Conditional Expressions\n",
    "for i in range(1,100+1):\n",
    "    result = \"fizzbuzz\" if i%15==0 else \"fizz\" if i%3==0 else \"buzz\" if i%5==0 else i\n",
    "    print(result)\n"
   ]
  },
  {
   "cell_type": "markdown",
   "metadata": {},
   "source": [
    "## Monty Hall Problem"
   ]
  },
  {
   "cell_type": "code",
   "execution_count": 32,
   "metadata": {},
   "outputs": [
    {
     "name": "stdout",
     "output_type": "stream",
     "text": [
      "stay: 33261 0.33261, switch: 66739 0.66739\n"
     ]
    }
   ],
   "source": [
    "import random\n",
    "\n",
    "\n",
    "stay = 0\n",
    "switch = 0\n",
    "trial = 100000\n",
    "\n",
    "for _ in range(trial):\n",
    "    doors = ['car','goat','goat']\n",
    "    random.shuffle(doors)\n",
    "    # print(doors)\n",
    "    choice = random.randrange(3)\n",
    "    user = doors.pop(choice) # => doors[choice]\n",
    "    # print(user)\n",
    "    doors.pop(doors.index('goat'))\n",
    "    # print(doors, user)\n",
    "    \n",
    "    if user == 'car':\n",
    "        stay += 1\n",
    "    else:\n",
    "        switch += 1\n",
    "    \n",
    "print(\"stay: {} {}, switch: {} {}\".format(stay, stay/trial, switch, switch/trial))\n",
    "    \n",
    "    "
   ]
  },
  {
   "cell_type": "code",
   "execution_count": 35,
   "metadata": {},
   "outputs": [],
   "source": [
    "def say_hello(num):\n",
    "    #()\n",
    "    #()\n",
    "    #()\n",
    "    #()\n",
    "    return \"hello\"*num"
   ]
  },
  {
   "cell_type": "code",
   "execution_count": 40,
   "metadata": {},
   "outputs": [
    {
     "data": {
      "text/plain": [
       "'hellohellohellohellohellohellohellohellohellohellohellohellohellohellohellohellohellohellohellohellohellohellohellohellohellohellohellohellohellohellohellohellohellohellohellohellohellohellohellohellohellohellohellohellohellohellohellohellohellohellohellohellohellohellohellohellohellohellohellohellohellohellohellohellohellohellohellohellohellohellohellohellohellohellohellohellohellohellohellohellohellohellohellohellohellohellohellohellohellohellohellohellohellohellohellohellohellohellohellohello'"
      ]
     },
     "execution_count": 40,
     "metadata": {},
     "output_type": "execute_result"
    }
   ],
   "source": [
    "say_hello(100)"
   ]
  },
  {
   "cell_type": "code",
   "execution_count": 44,
   "metadata": {},
   "outputs": [],
   "source": [
    "# 좋은 습관\n",
    "doors = [1,\n",
    "         2,\n",
    "         3,\n",
    "        ]"
   ]
  },
  {
   "cell_type": "code",
   "execution_count": 46,
   "metadata": {},
   "outputs": [],
   "source": [
    "def awe_sum(num1, num2):\n",
    "    num1 += 2\n",
    "    num2 += 3\n",
    "    result = num1 + num2\n",
    "    \n",
    "    return result"
   ]
  },
  {
   "cell_type": "code",
   "execution_count": 47,
   "metadata": {},
   "outputs": [
    {
     "data": {
      "text/plain": [
       "8"
      ]
     },
     "execution_count": 47,
     "metadata": {},
     "output_type": "execute_result"
    }
   ],
   "source": [
    "awe_sum(1,2)"
   ]
  },
  {
   "cell_type": "code",
   "execution_count": 48,
   "metadata": {},
   "outputs": [],
   "source": [
    "def special_hello():\n",
    "    hello = \"hello\"\n",
    "    language = \"python\"\n",
    "    return \"{} {}!\".format(hello, language)"
   ]
  },
  {
   "cell_type": "code",
   "execution_count": 49,
   "metadata": {},
   "outputs": [
    {
     "data": {
      "text/plain": [
       "'hello python!'"
      ]
     },
     "execution_count": 49,
     "metadata": {},
     "output_type": "execute_result"
    }
   ],
   "source": [
    "special_hello()"
   ]
  },
  {
   "cell_type": "code",
   "execution_count": 53,
   "metadata": {},
   "outputs": [],
   "source": [
    "def print_hello(name):\n",
    "    name = \"hello, {}.\".format(name)"
   ]
  },
  {
   "cell_type": "code",
   "execution_count": 54,
   "metadata": {},
   "outputs": [],
   "source": [
    "print_hello(\"Stan Lee\")"
   ]
  },
  {
   "cell_type": "code",
   "execution_count": 55,
   "metadata": {},
   "outputs": [
    {
     "name": "stdout",
     "output_type": "stream",
     "text": [
      "hello python! None\n"
     ]
    }
   ],
   "source": [
    "case1 = special_hello()\n",
    "case2 = print_hello(\"Stan Lee\")\n",
    "print(case1, case2)"
   ]
  },
  {
   "cell_type": "code",
   "execution_count": 66,
   "metadata": {},
   "outputs": [],
   "source": [
    "def multiple_return(num1):\n",
    "    result = num1 * 3\n",
    "    return result, num1, num1+1"
   ]
  },
  {
   "cell_type": "code",
   "execution_count": 67,
   "metadata": {},
   "outputs": [
    {
     "data": {
      "text/plain": [
       "(6, 2, 3)"
      ]
     },
     "execution_count": 67,
     "metadata": {},
     "output_type": "execute_result"
    }
   ],
   "source": [
    "multiple_return(2)"
   ]
  },
  {
   "cell_type": "code",
   "execution_count": 68,
   "metadata": {},
   "outputs": [],
   "source": [
    "y,x,z = multiple_return(2)"
   ]
  },
  {
   "cell_type": "code",
   "execution_count": 69,
   "metadata": {},
   "outputs": [
    {
     "name": "stdout",
     "output_type": "stream",
     "text": [
      "6 2 3\n"
     ]
    }
   ],
   "source": [
    "print(y,x,z)"
   ]
  },
  {
   "cell_type": "code",
   "execution_count": 78,
   "metadata": {},
   "outputs": [],
   "source": [
    "def awe_sum(num1,num2):\n",
    "    if type(num1) != int:\n",
    "        return \"TypeError: You must set num1 to integer.\"\n",
    "    elif num1 < 1:\n",
    "        return \"AnotherCustomError: num1 can't be less than 1.\"\n",
    "    elif num1%3==0:\n",
    "        return \"CustomError: num1 can't be times of 3.\"\n",
    "    else:\n",
    "        result = num1 + num2\n",
    "    \n",
    "    return result"
   ]
  },
  {
   "cell_type": "code",
   "execution_count": 79,
   "metadata": {},
   "outputs": [
    {
     "data": {
      "text/plain": [
       "6"
      ]
     },
     "execution_count": 79,
     "metadata": {},
     "output_type": "execute_result"
    }
   ],
   "source": [
    "awe_sum(2,4)"
   ]
  },
  {
   "cell_type": "code",
   "execution_count": 80,
   "metadata": {},
   "outputs": [
    {
     "data": {
      "text/plain": [
       "\"CustomError: num1 can't be times of 3.\""
      ]
     },
     "execution_count": 80,
     "metadata": {},
     "output_type": "execute_result"
    }
   ],
   "source": [
    "awe_sum(3,4)"
   ]
  },
  {
   "cell_type": "code",
   "execution_count": 81,
   "metadata": {},
   "outputs": [
    {
     "data": {
      "text/plain": [
       "\"AnotherCustomError: num1 can't be less than 1.\""
      ]
     },
     "execution_count": 81,
     "metadata": {},
     "output_type": "execute_result"
    }
   ],
   "source": [
    "awe_sum(0,5)"
   ]
  },
  {
   "cell_type": "code",
   "execution_count": 82,
   "metadata": {},
   "outputs": [
    {
     "data": {
      "text/plain": [
       "'TypeError: You must set num1 to integer.'"
      ]
     },
     "execution_count": 82,
     "metadata": {},
     "output_type": "execute_result"
    }
   ],
   "source": [
    "awe_sum(1.5, 2)"
   ]
  },
  {
   "cell_type": "code",
   "execution_count": 83,
   "metadata": {},
   "outputs": [],
   "source": [
    "def get_contact(name, status='Fool'):\n",
    "    return \"Hi, {}. But you are {}.\".format(name, status)"
   ]
  },
  {
   "cell_type": "code",
   "execution_count": 84,
   "metadata": {},
   "outputs": [
    {
     "data": {
      "text/plain": [
       "'Hi, Fast. But you are Fool.'"
      ]
     },
     "execution_count": 84,
     "metadata": {},
     "output_type": "execute_result"
    }
   ],
   "source": [
    "get_contact(\"Fast\")"
   ]
  },
  {
   "cell_type": "code",
   "execution_count": 85,
   "metadata": {},
   "outputs": [
    {
     "data": {
      "text/plain": [
       "'Hi, Fast. But you are Slow.'"
      ]
     },
     "execution_count": 85,
     "metadata": {},
     "output_type": "execute_result"
    }
   ],
   "source": [
    "get_contact(\"Fast\", \"Slow\")"
   ]
  },
  {
   "cell_type": "code",
   "execution_count": 87,
   "metadata": {},
   "outputs": [
    {
     "name": "stdout",
     "output_type": "stream",
     "text": [
      "Fast Campus\n"
     ]
    }
   ],
   "source": [
    "print(\"Fast\", \"Campus\")"
   ]
  },
  {
   "cell_type": "code",
   "execution_count": 91,
   "metadata": {},
   "outputs": [
    {
     "name": "stdout",
     "output_type": "stream",
     "text": [
      "Fast Campus\n",
      "FastKoreaCampus\n",
      "\n",
      "\n",
      "FastKoreaCampus\n",
      "\n",
      "\n"
     ]
    }
   ],
   "source": [
    "print(\"Fast\", \"Campus\", sep=' ', end='\\n')\n",
    "print(\"Fast\", \"Campus\", sep='Korea', end='\\n\\n\\n')\n",
    "print(\"Fast\", \"Campus\", sep='Korea', end='\\n\\n\\n')"
   ]
  },
  {
   "cell_type": "code",
   "execution_count": 93,
   "metadata": {},
   "outputs": [
    {
     "name": "stdout",
     "output_type": "stream",
     "text": [
      "Fast\n",
      "Campus\n"
     ]
    }
   ],
   "source": [
    "print(\"Fast\")\n",
    "print(\"Campus\")"
   ]
  },
  {
   "cell_type": "code",
   "execution_count": 94,
   "metadata": {},
   "outputs": [
    {
     "name": "stdout",
     "output_type": "stream",
     "text": [
      "Fast Campus\n"
     ]
    }
   ],
   "source": [
    "print(\"Fast\",\"Campus\")"
   ]
  },
  {
   "cell_type": "code",
   "execution_count": 101,
   "metadata": {},
   "outputs": [],
   "source": [
    "def say_hello(name=\"Fool\", nick=True):\n",
    "    print(\"Hi, {}\".format(name))\n",
    "    if nick == True:\n",
    "        print(\"But, you are Fool.\")\n",
    "    else:\n",
    "        print(\"Oh, you are not Fool.\")"
   ]
  },
  {
   "cell_type": "code",
   "execution_count": 103,
   "metadata": {},
   "outputs": [
    {
     "name": "stdout",
     "output_type": "stream",
     "text": [
      "Hi, Fool\n",
      "Oh, you are not Fool.\n"
     ]
    }
   ],
   "source": [
    "say_hello(nick=False)"
   ]
  },
  {
   "cell_type": "code",
   "execution_count": 97,
   "metadata": {},
   "outputs": [
    {
     "name": "stdout",
     "output_type": "stream",
     "text": [
      "Hi, Fast\n",
      "But, you are Fool.\n"
     ]
    }
   ],
   "source": [
    "say_hello(\"Fast\")"
   ]
  },
  {
   "cell_type": "code",
   "execution_count": 98,
   "metadata": {},
   "outputs": [
    {
     "name": "stdout",
     "output_type": "stream",
     "text": [
      "Hi, Fast\n",
      "Oh, you are not Fool.\n"
     ]
    }
   ],
   "source": [
    "say_hello(\"Fast\", False)"
   ]
  },
  {
   "cell_type": "code",
   "execution_count": 107,
   "metadata": {},
   "outputs": [],
   "source": [
    "def multiple_sum(*cat):\n",
    "    result = 0\n",
    "    for item in cat:\n",
    "        result += item\n",
    "    return result"
   ]
  },
  {
   "cell_type": "code",
   "execution_count": 108,
   "metadata": {},
   "outputs": [
    {
     "data": {
      "text/plain": [
       "15"
      ]
     },
     "execution_count": 108,
     "metadata": {},
     "output_type": "execute_result"
    }
   ],
   "source": [
    "result = multiple_sum(1,2,3,4,5)\n",
    "result"
   ]
  },
  {
   "cell_type": "code",
   "execution_count": 114,
   "metadata": {},
   "outputs": [],
   "source": [
    "def calculator(oper, *dog):\n",
    "    result = 0\n",
    "    if oper == \"plus\":\n",
    "        for item in dog:\n",
    "            result += item\n",
    "    elif oper == \"minus\":\n",
    "        result = dog[0]\n",
    "        for item in dog[1:]:\n",
    "            result -= item\n",
    "    return result"
   ]
  },
  {
   "cell_type": "code",
   "execution_count": 115,
   "metadata": {},
   "outputs": [
    {
     "data": {
      "text/plain": [
       "15"
      ]
     },
     "execution_count": 115,
     "metadata": {},
     "output_type": "execute_result"
    }
   ],
   "source": [
    "calculator(\"plus\", 1,2,3,4,5)"
   ]
  },
  {
   "cell_type": "code",
   "execution_count": 111,
   "metadata": {},
   "outputs": [
    {
     "data": {
      "text/plain": [
       "-5"
      ]
     },
     "execution_count": 111,
     "metadata": {},
     "output_type": "execute_result"
    }
   ],
   "source": [
    "calculator(\"minus\", 5,4,3,2,1)"
   ]
  },
  {
   "cell_type": "code",
   "execution_count": 116,
   "metadata": {},
   "outputs": [],
   "source": [
    "def personal_info(action, **kwargs):\n",
    "    my_precious = []\n",
    "    if action == 'add':\n",
    "        my_precious.append(kwargs)\n",
    "        \n",
    "    return my_precious"
   ]
  },
  {
   "cell_type": "code",
   "execution_count": 117,
   "metadata": {},
   "outputs": [
    {
     "data": {
      "text/plain": [
       "[{'name': 'fast', 'locale': 'Seoul,Korea', 'lang': ['python', 'csharp']}]"
      ]
     },
     "execution_count": 117,
     "metadata": {},
     "output_type": "execute_result"
    }
   ],
   "source": [
    "personal_info('add',name=\"fast\",locale=\"Seoul,Korea\",lang=['python','csharp'])"
   ]
  },
  {
   "cell_type": "code",
   "execution_count": 118,
   "metadata": {},
   "outputs": [],
   "source": [
    "def url_filler(host,port,**kwargs):\n",
    "    base = \"https://www.\" + host + \".com:\" + port + \"/?\"\n",
    "    for k,v in kwargs.items():\n",
    "        base += k + \"=\" + v + \"&\"\n",
    "        \n",
    "    return base"
   ]
  },
  {
   "cell_type": "code",
   "execution_count": 119,
   "metadata": {},
   "outputs": [
    {
     "data": {
      "text/plain": [
       "'https://www.google.com:8800/?query=패스트캠퍼스&ie=utf-8&device=mobile&source=direct&'"
      ]
     },
     "execution_count": 119,
     "metadata": {},
     "output_type": "execute_result"
    }
   ],
   "source": [
    "url_filler(\"google\",\"8800\", query=\"패스트캠퍼스\", ie=\"utf-8\", device=\"mobile\", source=\"direct\")"
   ]
  },
  {
   "cell_type": "code",
   "execution_count": 120,
   "metadata": {},
   "outputs": [
    {
     "ename": "ZeroDivisionError",
     "evalue": "division by zero",
     "output_type": "error",
     "traceback": [
      "\u001b[0;31m---------------------------------------------------------------------------\u001b[0m",
      "\u001b[0;31mZeroDivisionError\u001b[0m                         Traceback (most recent call last)",
      "\u001b[0;32m<ipython-input-120-e8326a161779>\u001b[0m in \u001b[0;36m<module>\u001b[0;34m()\u001b[0m\n\u001b[0;32m----> 1\u001b[0;31m \u001b[0;36m2\u001b[0m\u001b[0;34m/\u001b[0m\u001b[0;36m0\u001b[0m\u001b[0;34m\u001b[0m\u001b[0m\n\u001b[0m",
      "\u001b[0;31mZeroDivisionError\u001b[0m: division by zero"
     ]
    }
   ],
   "source": [
    "2/0"
   ]
  },
  {
   "cell_type": "markdown",
   "metadata": {},
   "source": [
    "숙제 1: Monty Hall Problem function으로 만들기\n",
    "ex)\n",
    "Input: monty_function(trial) -> Output: \"Stay: 3, Switch: 7\"\n",
    "\n",
    "숙제 2: Calculator() 사칙연산과 몫,나머지 연산 구현하기"
   ]
  }
 ],
 "metadata": {
  "kernelspec": {
   "display_name": "Python 3",
   "language": "python",
   "name": "python3"
  },
  "language_info": {
   "codemirror_mode": {
    "name": "ipython",
    "version": 3
   },
   "file_extension": ".py",
   "mimetype": "text/x-python",
   "name": "python",
   "nbconvert_exporter": "python",
   "pygments_lexer": "ipython3",
   "version": "3.6.4"
  }
 },
 "nbformat": 4,
 "nbformat_minor": 2
}
