{
 "cells": [
  {
   "cell_type": "code",
   "execution_count": 93,
   "metadata": {},
   "outputs": [],
   "source": [
    "import time\n",
    "from functools import reduce"
   ]
  },
  {
   "cell_type": "code",
   "execution_count": 1,
   "metadata": {},
   "outputs": [
    {
     "name": "stdout",
     "output_type": "stream",
     "text": [
      "@decoration Start\n",
      "print_something Start\n",
      "Fastcampus\n",
      "@decoration Finished\n"
     ]
    },
    {
     "data": {
      "text/plain": [
       "'Fastcampus'"
      ]
     },
     "execution_count": 1,
     "metadata": {},
     "output_type": "execute_result"
    }
   ],
   "source": [
    "# 데코레이터 정의\n",
    "def decoration(function):\n",
    "    def cat(*args, **kwargs):\n",
    "        print(\"@decoration Start\")\n",
    "        result = function(*args, **kwargs)\n",
    "        print(\"@decoration Finished\")\n",
    "        return result\n",
    "    return cat\n",
    "\n",
    "\n",
    "# 쓰일 본 함수 정의\n",
    "@decoration\n",
    "def print_something(text):\n",
    "    print(\"print_something Start\")\n",
    "    print(\"{}\".format(text))\n",
    "    return text\n",
    "\n",
    "print_something(\"Fastcampus\")"
   ]
  },
  {
   "cell_type": "code",
   "execution_count": 20,
   "metadata": {},
   "outputs": [],
   "source": [
    "#이름: tag_maker\n",
    "def tag_maker(tag_name):\n",
    "    def decorator_(function):\n",
    "        def wrapper(*args, **kwargs):\n",
    "            print(\"@tag_maker start {}\".format(tag_name))\n",
    "            result = \"<{tag}>{some_text}</{tag}>\".format(\n",
    "                some_text = function(*args, **kwargs),\n",
    "                tag = tag_name\n",
    "            )\n",
    "            return result\n",
    "        return wrapper\n",
    "    return decorator_\n",
    "\n",
    "# 사용자로부터 텍스트 받기\n",
    "\n",
    "@tag_maker('div')\n",
    "@tag_maker('span')\n",
    "@tag_maker('em')\n",
    "@tag_maker('h1')\n",
    "def get_text(text):\n",
    "    print(text)\n",
    "    return \"{text}\".format(text=text) # str(text), text"
   ]
  },
  {
   "cell_type": "code",
   "execution_count": 21,
   "metadata": {},
   "outputs": [
    {
     "name": "stdout",
     "output_type": "stream",
     "text": [
      "@tag_maker start div\n",
      "@tag_maker start span\n",
      "@tag_maker start em\n",
      "@tag_maker start h1\n",
      "Welcome Home\n"
     ]
    },
    {
     "data": {
      "text/plain": [
       "'<div><span><em><h1>Welcome Home</h1></em></span></div>'"
      ]
     },
     "execution_count": 21,
     "metadata": {},
     "output_type": "execute_result"
    }
   ],
   "source": [
    "get_text(\"Welcome Home\")"
   ]
  },
  {
   "cell_type": "code",
   "execution_count": 22,
   "metadata": {},
   "outputs": [],
   "source": [
    "# 입력받은 정수의 다음 값을 출력하는 함수\n",
    "def get_next_integer(a):\n",
    "    result = a + 1\n",
    "    return result"
   ]
  },
  {
   "cell_type": "code",
   "execution_count": 23,
   "metadata": {},
   "outputs": [
    {
     "data": {
      "text/plain": [
       "11"
      ]
     },
     "execution_count": 23,
     "metadata": {},
     "output_type": "execute_result"
    }
   ],
   "source": [
    "get_next_integer(10)"
   ]
  },
  {
   "cell_type": "code",
   "execution_count": 24,
   "metadata": {},
   "outputs": [],
   "source": [
    "def get_next_integer(a):\n",
    "    return a + 1"
   ]
  },
  {
   "cell_type": "code",
   "execution_count": 25,
   "metadata": {},
   "outputs": [
    {
     "data": {
      "text/plain": [
       "11"
      ]
     },
     "execution_count": 25,
     "metadata": {},
     "output_type": "execute_result"
    }
   ],
   "source": [
    "get_next_integer(10)"
   ]
  },
  {
   "cell_type": "code",
   "execution_count": 26,
   "metadata": {},
   "outputs": [
    {
     "data": {
      "text/plain": [
       "<function __main__.<lambda>(a)>"
      ]
     },
     "execution_count": 26,
     "metadata": {},
     "output_type": "execute_result"
    }
   ],
   "source": [
    "lambda a: a+1"
   ]
  },
  {
   "cell_type": "code",
   "execution_count": 27,
   "metadata": {},
   "outputs": [
    {
     "data": {
      "text/plain": [
       "11"
      ]
     },
     "execution_count": 27,
     "metadata": {},
     "output_type": "execute_result"
    }
   ],
   "source": [
    "(lambda a:a+1)(10)"
   ]
  },
  {
   "cell_type": "code",
   "execution_count": 28,
   "metadata": {},
   "outputs": [
    {
     "data": {
      "text/plain": [
       "11"
      ]
     },
     "execution_count": 28,
     "metadata": {},
     "output_type": "execute_result"
    }
   ],
   "source": [
    "lamb_function = lambda a:a+1\n",
    "lamb_function(10)"
   ]
  },
  {
   "cell_type": "code",
   "execution_count": 30,
   "metadata": {},
   "outputs": [
    {
     "data": {
      "text/plain": [
       "'a is ten.'"
      ]
     },
     "execution_count": 30,
     "metadata": {},
     "output_type": "execute_result"
    }
   ],
   "source": [
    "(lambda a: \"a is not ten.\" if a!=10 else \"a is ten.\")(10)"
   ]
  },
  {
   "cell_type": "code",
   "execution_count": 31,
   "metadata": {},
   "outputs": [
    {
     "data": {
      "text/plain": [
       "[1, 2, 3, 4, 5]"
      ]
     },
     "execution_count": 31,
     "metadata": {},
     "output_type": "execute_result"
    }
   ],
   "source": [
    "# some_list의 모든 요소(정수)에 1을 더하는 lambda\n",
    "some_list = []\n",
    "some_list.append(1)\n",
    "some_list.append(2)\n",
    "some_list.append(3)\n",
    "some_list.append(4)\n",
    "some_list.append(5)\n",
    "\n",
    "some_list"
   ]
  },
  {
   "cell_type": "code",
   "execution_count": 32,
   "metadata": {},
   "outputs": [
    {
     "ename": "SyntaxError",
     "evalue": "invalid syntax (<ipython-input-32-9f9f77bdbbb5>, line 1)",
     "output_type": "error",
     "traceback": [
      "\u001b[0;36m  File \u001b[0;32m\"<ipython-input-32-9f9f77bdbbb5>\"\u001b[0;36m, line \u001b[0;32m1\u001b[0m\n\u001b[0;31m    lambda x:x+1 for x in some_list\u001b[0m\n\u001b[0m                   ^\u001b[0m\n\u001b[0;31mSyntaxError\u001b[0m\u001b[0;31m:\u001b[0m invalid syntax\n"
     ]
    }
   ],
   "source": [
    "lambda x:x+1 for x in some_list"
   ]
  },
  {
   "cell_type": "code",
   "execution_count": 33,
   "metadata": {},
   "outputs": [
    {
     "data": {
      "text/plain": [
       "[2, 3, 4, 5, 6]"
      ]
     },
     "execution_count": 33,
     "metadata": {},
     "output_type": "execute_result"
    }
   ],
   "source": [
    "[x+1 for x in some_list]"
   ]
  },
  {
   "cell_type": "code",
   "execution_count": 34,
   "metadata": {},
   "outputs": [
    {
     "data": {
      "text/plain": [
       "'F,a,s,t,c,a,m,p,u,s'"
      ]
     },
     "execution_count": 34,
     "metadata": {},
     "output_type": "execute_result"
    }
   ],
   "source": [
    "(lambda a:\",\".join(a))(\"Fastcampus\")"
   ]
  },
  {
   "cell_type": "code",
   "execution_count": 35,
   "metadata": {},
   "outputs": [
    {
     "data": {
      "text/plain": [
       "[1, 4, 9, 16, 25]"
      ]
     },
     "execution_count": 35,
     "metadata": {},
     "output_type": "execute_result"
    }
   ],
   "source": [
    "num_list = [1,2,3,4,5]\n",
    "\n",
    "def get_squared(list_of_integer):\n",
    "    squared = []\n",
    "    for item in list_of_integer:\n",
    "        squared.append(item ** 2)\n",
    "    return squared\n",
    "\n",
    "get_squared(num_list)"
   ]
  },
  {
   "cell_type": "code",
   "execution_count": 45,
   "metadata": {},
   "outputs": [
    {
     "data": {
      "text/plain": [
       "[1, 4, 9, 16, 25]"
      ]
     },
     "execution_count": 45,
     "metadata": {},
     "output_type": "execute_result"
    }
   ],
   "source": [
    "def squared_num(num):\n",
    "    return num ** 2\n",
    "\n",
    "# map(function, iterable_object)\n",
    "list(map(squared_num, num_list))"
   ]
  },
  {
   "cell_type": "code",
   "execution_count": 43,
   "metadata": {},
   "outputs": [
    {
     "data": {
      "text/plain": [
       "25"
      ]
     },
     "execution_count": 43,
     "metadata": {},
     "output_type": "execute_result"
    }
   ],
   "source": [
    "next(map_object)"
   ]
  },
  {
   "cell_type": "code",
   "execution_count": 50,
   "metadata": {},
   "outputs": [
    {
     "data": {
      "text/plain": [
       "[1, 4, 9, 16, 25]"
      ]
     },
     "execution_count": 50,
     "metadata": {},
     "output_type": "execute_result"
    }
   ],
   "source": [
    "list(map(lambda a:a**2, num_list))"
   ]
  },
  {
   "cell_type": "code",
   "execution_count": 52,
   "metadata": {},
   "outputs": [],
   "source": [
    "def squared_with_sleep(x):\n",
    "    time.sleep(1)\n",
    "    return x ** 2"
   ]
  },
  {
   "cell_type": "code",
   "execution_count": 63,
   "metadata": {},
   "outputs": [],
   "source": [
    "m = map(squared_with_sleep, num_list)"
   ]
  },
  {
   "cell_type": "code",
   "execution_count": 54,
   "metadata": {},
   "outputs": [
    {
     "data": {
      "text/plain": [
       "1"
      ]
     },
     "execution_count": 54,
     "metadata": {},
     "output_type": "execute_result"
    }
   ],
   "source": [
    "next(m)"
   ]
  },
  {
   "cell_type": "code",
   "execution_count": 55,
   "metadata": {},
   "outputs": [
    {
     "data": {
      "text/plain": [
       "4"
      ]
     },
     "execution_count": 55,
     "metadata": {},
     "output_type": "execute_result"
    }
   ],
   "source": [
    "next(m)"
   ]
  },
  {
   "cell_type": "code",
   "execution_count": 56,
   "metadata": {},
   "outputs": [
    {
     "data": {
      "text/plain": [
       "9"
      ]
     },
     "execution_count": 56,
     "metadata": {},
     "output_type": "execute_result"
    }
   ],
   "source": [
    "next(m)"
   ]
  },
  {
   "cell_type": "code",
   "execution_count": 57,
   "metadata": {},
   "outputs": [
    {
     "data": {
      "text/plain": [
       "16"
      ]
     },
     "execution_count": 57,
     "metadata": {},
     "output_type": "execute_result"
    }
   ],
   "source": [
    "next(m)"
   ]
  },
  {
   "cell_type": "code",
   "execution_count": 58,
   "metadata": {},
   "outputs": [
    {
     "data": {
      "text/plain": [
       "25"
      ]
     },
     "execution_count": 58,
     "metadata": {},
     "output_type": "execute_result"
    }
   ],
   "source": [
    "next(m)"
   ]
  },
  {
   "cell_type": "code",
   "execution_count": 64,
   "metadata": {},
   "outputs": [
    {
     "name": "stdout",
     "output_type": "stream",
     "text": [
      "1\n",
      "4\n",
      "9\n",
      "16\n",
      "25\n"
     ]
    }
   ],
   "source": [
    "for _ in range(5):\n",
    "    result = next(m)\n",
    "    print(result)"
   ]
  },
  {
   "cell_type": "code",
   "execution_count": 80,
   "metadata": {},
   "outputs": [
    {
     "name": "stdout",
     "output_type": "stream",
     "text": [
      "1 1\n",
      "2 2\n",
      "3 3\n"
     ]
    },
    {
     "data": {
      "text/plain": [
       "[<map at 0x10cee1cc0>]"
      ]
     },
     "execution_count": 80,
     "metadata": {},
     "output_type": "execute_result"
    }
   ],
   "source": [
    "some_dict={1:1,2:2,3:3}\n",
    "\n",
    "for k,v in some_dict.items():\n",
    "    print(k,v)\n",
    "\n",
    "list(map((lambda a:a[0] + a[1]), some_dict.items())) # k,v:\n",
    "[map((lambda a:a[0] + a[1]), some_dict.items())]"
   ]
  },
  {
   "cell_type": "code",
   "execution_count": 79,
   "metadata": {},
   "outputs": [
    {
     "data": {
      "text/plain": [
       "(1, 1)"
      ]
     },
     "execution_count": 79,
     "metadata": {},
     "output_type": "execute_result"
    }
   ],
   "source": [
    "list(some_dict.items())[0]"
   ]
  },
  {
   "cell_type": "code",
   "execution_count": 87,
   "metadata": {},
   "outputs": [
    {
     "data": {
      "text/plain": [
       "2"
      ]
     },
     "execution_count": 87,
     "metadata": {},
     "output_type": "execute_result"
    }
   ],
   "source": [
    "m = [map((lambda a:a[0] + a[1]), some_dict.items())]\n",
    "next(m[0])"
   ]
  },
  {
   "cell_type": "code",
   "execution_count": 89,
   "metadata": {},
   "outputs": [
    {
     "data": {
      "text/plain": [
       "[2, 4, 6, 8, 10, 12, 14, 16, 18, 20]"
      ]
     },
     "execution_count": 89,
     "metadata": {},
     "output_type": "execute_result"
    }
   ],
   "source": [
    "def even_selector(x):\n",
    "    if x % 2 == 0:\n",
    "        return True\n",
    "    else:\n",
    "        return False\n",
    "    \n",
    "list(filter(even_selector, range(1,20+1)))"
   ]
  },
  {
   "cell_type": "code",
   "execution_count": 92,
   "metadata": {},
   "outputs": [
    {
     "data": {
      "text/plain": [
       "[6, 12, 18]"
      ]
     },
     "execution_count": 92,
     "metadata": {},
     "output_type": "execute_result"
    }
   ],
   "source": [
    "list(filter(lambda x:x%2==0 and x%3==0, range(1,20+1)))"
   ]
  },
  {
   "cell_type": "code",
   "execution_count": 94,
   "metadata": {},
   "outputs": [
    {
     "name": "stdout",
     "output_type": "stream",
     "text": [
      "5050\n"
     ]
    }
   ],
   "source": [
    "# from functools import reduce\n",
    "\n",
    "result = 0\n",
    "for i in range(1,100+1):\n",
    "    result += i\n",
    "    \n",
    "print(result)"
   ]
  },
  {
   "cell_type": "code",
   "execution_count": 101,
   "metadata": {},
   "outputs": [
    {
     "name": "stdout",
     "output_type": "stream",
     "text": [
      "0 1\n",
      "1 2\n",
      "3 3\n",
      "6 4\n",
      "10 5\n",
      "15 6\n",
      "21 7\n",
      "28 8\n",
      "36 9\n",
      "45 10\n",
      "55 11\n",
      "66 12\n",
      "78 13\n",
      "91 14\n",
      "105 15\n",
      "120 16\n",
      "136 17\n",
      "153 18\n",
      "171 19\n",
      "190 20\n",
      "210 21\n",
      "231 22\n",
      "253 23\n",
      "276 24\n",
      "300 25\n",
      "325 26\n",
      "351 27\n",
      "378 28\n",
      "406 29\n",
      "435 30\n",
      "465 31\n",
      "496 32\n",
      "528 33\n",
      "561 34\n",
      "595 35\n",
      "630 36\n",
      "666 37\n",
      "703 38\n",
      "741 39\n",
      "780 40\n",
      "820 41\n",
      "861 42\n",
      "903 43\n",
      "946 44\n",
      "990 45\n",
      "1035 46\n",
      "1081 47\n",
      "1128 48\n",
      "1176 49\n",
      "1225 50\n",
      "1275 51\n",
      "1326 52\n",
      "1378 53\n",
      "1431 54\n",
      "1485 55\n",
      "1540 56\n",
      "1596 57\n",
      "1653 58\n",
      "1711 59\n",
      "1770 60\n",
      "1830 61\n",
      "1891 62\n",
      "1953 63\n",
      "2016 64\n",
      "2080 65\n",
      "2145 66\n",
      "2211 67\n",
      "2278 68\n",
      "2346 69\n",
      "2415 70\n",
      "2485 71\n",
      "2556 72\n",
      "2628 73\n",
      "2701 74\n",
      "2775 75\n",
      "2850 76\n",
      "2926 77\n",
      "3003 78\n",
      "3081 79\n",
      "3160 80\n",
      "3240 81\n",
      "3321 82\n",
      "3403 83\n",
      "3486 84\n",
      "3570 85\n",
      "3655 86\n",
      "3741 87\n",
      "3828 88\n",
      "3916 89\n",
      "4005 90\n",
      "4095 91\n",
      "4186 92\n",
      "4278 93\n",
      "4371 94\n",
      "4465 95\n",
      "4560 96\n",
      "4656 97\n",
      "4753 98\n",
      "4851 99\n",
      "4950 100\n",
      "5050\n"
     ]
    }
   ],
   "source": [
    "result = 0\n",
    "\n",
    "def adder(a,b):\n",
    "    print(a,b)\n",
    "    return a+b\n",
    "\n",
    "def multiplyer(a,b):\n",
    "    return a*b\n",
    "\n",
    "for i in range(1,100+1):\n",
    "    result = adder(result, i)\n",
    "    \n",
    "print(result)"
   ]
  },
  {
   "cell_type": "code",
   "execution_count": 100,
   "metadata": {},
   "outputs": [
    {
     "name": "stdout",
     "output_type": "stream",
     "text": [
      "1 2\n",
      "3 3\n",
      "6 4\n",
      "10 5\n",
      "15 6\n",
      "21 7\n",
      "28 8\n",
      "36 9\n",
      "45 10\n",
      "55 11\n",
      "66 12\n",
      "78 13\n",
      "91 14\n",
      "105 15\n",
      "120 16\n",
      "136 17\n",
      "153 18\n",
      "171 19\n",
      "190 20\n",
      "210 21\n",
      "231 22\n",
      "253 23\n",
      "276 24\n",
      "300 25\n",
      "325 26\n",
      "351 27\n",
      "378 28\n",
      "406 29\n",
      "435 30\n",
      "465 31\n",
      "496 32\n",
      "528 33\n",
      "561 34\n",
      "595 35\n",
      "630 36\n",
      "666 37\n",
      "703 38\n",
      "741 39\n",
      "780 40\n",
      "820 41\n",
      "861 42\n",
      "903 43\n",
      "946 44\n",
      "990 45\n",
      "1035 46\n",
      "1081 47\n",
      "1128 48\n",
      "1176 49\n",
      "1225 50\n",
      "1275 51\n",
      "1326 52\n",
      "1378 53\n",
      "1431 54\n",
      "1485 55\n",
      "1540 56\n",
      "1596 57\n",
      "1653 58\n",
      "1711 59\n",
      "1770 60\n",
      "1830 61\n",
      "1891 62\n",
      "1953 63\n",
      "2016 64\n",
      "2080 65\n",
      "2145 66\n",
      "2211 67\n",
      "2278 68\n",
      "2346 69\n",
      "2415 70\n",
      "2485 71\n",
      "2556 72\n",
      "2628 73\n",
      "2701 74\n",
      "2775 75\n",
      "2850 76\n",
      "2926 77\n",
      "3003 78\n",
      "3081 79\n",
      "3160 80\n",
      "3240 81\n",
      "3321 82\n",
      "3403 83\n",
      "3486 84\n",
      "3570 85\n",
      "3655 86\n",
      "3741 87\n",
      "3828 88\n",
      "3916 89\n",
      "4005 90\n",
      "4095 91\n",
      "4186 92\n",
      "4278 93\n",
      "4371 94\n",
      "4465 95\n",
      "4560 96\n",
      "4656 97\n",
      "4753 98\n",
      "4851 99\n",
      "4950 100\n"
     ]
    },
    {
     "data": {
      "text/plain": [
       "5050"
      ]
     },
     "execution_count": 100,
     "metadata": {},
     "output_type": "execute_result"
    }
   ],
   "source": [
    "reduce(adder, range(1,100+1))"
   ]
  },
  {
   "cell_type": "code",
   "execution_count": 102,
   "metadata": {},
   "outputs": [
    {
     "data": {
      "text/plain": [
       "93326215443944152681699238856266700490715968264381621468592963895217599993229915608941463976156518286253697920827223758251185210916864000000000000000000000000"
      ]
     },
     "execution_count": 102,
     "metadata": {},
     "output_type": "execute_result"
    }
   ],
   "source": [
    "reduce(multiplyer, range(1,100+1))"
   ]
  },
  {
   "cell_type": "code",
   "execution_count": 105,
   "metadata": {},
   "outputs": [
    {
     "data": {
      "text/plain": [
       "15050"
      ]
     },
     "execution_count": 105,
     "metadata": {},
     "output_type": "execute_result"
    }
   ],
   "source": [
    "reduce(lambda a,b:a+b, range(1,100+1), 10000)"
   ]
  },
  {
   "cell_type": "code",
   "execution_count": 104,
   "metadata": {},
   "outputs": [
    {
     "data": {
      "text/plain": [
       "93326215443944152681699238856266700490715968264381621468592963895217599993229915608941463976156518286253697920827223758251185210916864000000000000000000000000"
      ]
     },
     "execution_count": 104,
     "metadata": {},
     "output_type": "execute_result"
    }
   ],
   "source": [
    "reduce(lambda a,b:a*b, range(1,100+1))"
   ]
  },
  {
   "cell_type": "code",
   "execution_count": 106,
   "metadata": {},
   "outputs": [
    {
     "data": {
      "text/plain": [
       "'supmactsaF'"
      ]
     },
     "execution_count": 106,
     "metadata": {},
     "output_type": "execute_result"
    }
   ],
   "source": [
    "reduce(lambda a,b: b+a, \"Fastcampus\")"
   ]
  },
  {
   "cell_type": "code",
   "execution_count": 107,
   "metadata": {},
   "outputs": [
    {
     "data": {
      "text/plain": [
       "'stc'"
      ]
     },
     "execution_count": 107,
     "metadata": {},
     "output_type": "execute_result"
    }
   ],
   "source": [
    "'Fastcampus'[2:5]"
   ]
  },
  {
   "cell_type": "code",
   "execution_count": 108,
   "metadata": {},
   "outputs": [
    {
     "data": {
      "text/plain": [
       "True"
      ]
     },
     "execution_count": 108,
     "metadata": {},
     "output_type": "execute_result"
    }
   ],
   "source": [
    "type(1) == int"
   ]
  },
  {
   "cell_type": "code",
   "execution_count": 109,
   "metadata": {},
   "outputs": [],
   "source": [
    "isinstance?"
   ]
  },
  {
   "cell_type": "code",
   "execution_count": 110,
   "metadata": {},
   "outputs": [
    {
     "data": {
      "text/plain": [
       "True"
      ]
     },
     "execution_count": 110,
     "metadata": {},
     "output_type": "execute_result"
    }
   ],
   "source": [
    "isinstance(1, int)"
   ]
  },
  {
   "cell_type": "code",
   "execution_count": 111,
   "metadata": {},
   "outputs": [
    {
     "data": {
      "text/plain": [
       "False"
      ]
     },
     "execution_count": 111,
     "metadata": {},
     "output_type": "execute_result"
    }
   ],
   "source": [
    "isinstance(1, str)"
   ]
  },
  {
   "cell_type": "code",
   "execution_count": null,
   "metadata": {},
   "outputs": [],
   "source": [
    "orders = [(),(),(),()]"
   ]
  }
 ],
 "metadata": {
  "kernelspec": {
   "display_name": "Python 3",
   "language": "python",
   "name": "python3"
  },
  "language_info": {
   "codemirror_mode": {
    "name": "ipython",
    "version": 3
   },
   "file_extension": ".py",
   "mimetype": "text/x-python",
   "name": "python",
   "nbconvert_exporter": "python",
   "pygments_lexer": "ipython3",
   "version": "3.6.4"
  }
 },
 "nbformat": 4,
 "nbformat_minor": 2
}
