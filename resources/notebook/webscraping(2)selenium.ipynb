{
 "cells": [
  {
   "cell_type": "code",
   "execution_count": 1,
   "metadata": {},
   "outputs": [],
   "source": [
    "from selenium import webdriver"
   ]
  },
  {
   "cell_type": "markdown",
   "metadata": {},
   "source": [
    "## naver cafe search list\n",
    "### requirements\n",
    "- pip install selenium\n",
    "- Chromedriver"
   ]
  },
  {
   "cell_type": "code",
   "execution_count": 3,
   "metadata": {},
   "outputs": [],
   "source": [
    "# init driver\n",
    "# C:/users/chromedriver.exe\n",
    "ch_driver = webdriver.Chrome(\\\n",
    "    '/Users/ulgoon/Documents/dev/chromedriver')\n"
   ]
  },
  {
   "cell_type": "code",
   "execution_count": 5,
   "metadata": {},
   "outputs": [],
   "source": [
    "ch_driver.get('https://nid.naver.com/nidlogin.login')"
   ]
  },
  {
   "cell_type": "code",
   "execution_count": 9,
   "metadata": {},
   "outputs": [],
   "source": [
    "username = 'wychoi0408'\n",
    "userpw = 'Nvxmtr52!!'\n",
    "\n",
    "# find_element <> find\n",
    "# find_elements <> find_all\n",
    "ch_driver.find_element_by_id('id').send_keys(username)\n",
    "ch_driver.find_element_by_id('pw').send_keys(userpw)\n"
   ]
  },
  {
   "cell_type": "code",
   "execution_count": 7,
   "metadata": {},
   "outputs": [],
   "source": [
    "from selenium.webdriver.common.keys import Keys"
   ]
  },
  {
   "cell_type": "code",
   "execution_count": 10,
   "metadata": {},
   "outputs": [],
   "source": [
    "ch_driver.find_element_by_id('pw').send_keys(Keys.ENTER)"
   ]
  },
  {
   "cell_type": "code",
   "execution_count": 11,
   "metadata": {},
   "outputs": [],
   "source": [
    "ch_driver.get('https://cafe.naver.com/joonggonara')"
   ]
  },
  {
   "cell_type": "code",
   "execution_count": 12,
   "metadata": {},
   "outputs": [],
   "source": [
    "query = \"키보드\"\n",
    "\n",
    "ch_driver.find_element_by_id('topLayerQueryInput').send_keys(query)\n",
    "\n",
    "# execute javaScript\n",
    "ch_driver.execute_script('searchBoard();')\n",
    "ch_driver.implicitly_wait(1)"
   ]
  },
  {
   "cell_type": "code",
   "execution_count": 13,
   "metadata": {},
   "outputs": [],
   "source": [
    "# switch to iframe\n",
    "# div -> div, \n",
    "# div (class=footer) -> div.footer, \n",
    "# div (id=header) -> div#header\n",
    "iframe = ch_driver.find_element_by_css_selector('iframe#cafe_main')\n",
    "ch_driver.switch_to_frame(iframe)"
   ]
  },
  {
   "cell_type": "code",
   "execution_count": 14,
   "metadata": {},
   "outputs": [],
   "source": [
    "td_list = ch_driver.find_elements_by_css_selector('td.board-list')"
   ]
  },
  {
   "cell_type": "code",
   "execution_count": 16,
   "metadata": {},
   "outputs": [
    {
     "name": "stdout",
     "output_type": "stream",
     "text": [
      "앱코 ABKO HACKER B510U PRO 버추얼 7.1 진동 LED 게이밍(정품) 팝니다.\n",
      "https://cafe.naver.com/ArticleRead.nhn?clubid=10050146&page=1&inCafeSearch=true&searchBy=0&query=%C5%B0%BA%B8%B5%E5&includeAll=&exclude=&include=&exact=&searchdate=all&media=0&sortBy=date&articleid=479168814&referrerAllArticles=true\n",
      "i3 사무용부터 라이젠 까지 모든사양 당일배송!\n",
      "https://cafe.naver.com/ArticleRead.nhn?clubid=10050146&page=1&inCafeSearch=true&searchBy=0&query=%C5%B0%BA%B8%B5%E5&includeAll=&exclude=&include=&exact=&searchdate=all&media=0&sortBy=date&articleid=479168705&referrerAllArticles=true\n",
      "온라인 게임용 컴퓨터팝니다 gtx1060 1050 업컴퓨터( 모든지역 택배, 근교 설치 방문가능) 카드가능\n",
      "https://cafe.naver.com/ArticleRead.nhn?clubid=10050146&page=1&inCafeSearch=true&searchBy=0&query=%C5%B0%BA%B8%B5%E5&includeAll=&exclude=&include=&exact=&searchdate=all&media=0&sortBy=date&articleid=479168595&referrerAllArticles=true\n",
      "[공식앱] 아이리버 전자사전3개 d200(핑크), d26(화이트),d20(블랙)\n",
      "https://cafe.naver.com/ArticleRead.nhn?clubid=10050146&page=1&inCafeSearch=true&searchBy=0&query=%C5%B0%BA%B8%B5%E5&includeAll=&exclude=&include=&exact=&searchdate=all&media=0&sortBy=date&articleid=479168580&referrerAllArticles=true\n",
      "아이패드프로 2세대 12.9 256G wifi\n",
      "https://cafe.naver.com/ArticleRead.nhn?clubid=10050146&page=1&inCafeSearch=true&searchBy=0&query=%C5%B0%BA%B8%B5%E5&includeAll=&exclude=&include=&exact=&searchdate=all&media=0&sortBy=date&articleid=479168491&referrerAllArticles=true\n",
      "# 실비 보험 ip! 보험 아줌마는 안 알려 주는 방법!\n",
      "https://cafe.naver.com/ArticleRead.nhn?clubid=10050146&page=1&inCafeSearch=true&searchBy=0&query=%C5%B0%BA%B8%B5%E5&includeAll=&exclude=&include=&exact=&searchdate=all&media=0&sortBy=date&articleid=479168386&referrerAllArticles=true\n",
      "라이젠 R3 2200G 가격대비 최상성능\n",
      "https://cafe.naver.com/ArticleRead.nhn?clubid=10050146&page=1&inCafeSearch=true&searchBy=0&query=%C5%B0%BA%B8%B5%E5&includeAll=&exclude=&include=&exact=&searchdate=all&media=0&sortBy=date&articleid=479168383&referrerAllArticles=true\n",
      "(미사용/신품)슈퍼슬림/삼성32인치 커브드 모니터(HDMI단자/IPTV시청)각종게임기연결\n",
      "https://cafe.naver.com/ArticleRead.nhn?clubid=10050146&page=1&inCafeSearch=true&searchBy=0&query=%C5%B0%BA%B8%B5%E5&includeAll=&exclude=&include=&exact=&searchdate=all&media=0&sortBy=date&articleid=479168343&referrerAllArticles=true\n",
      "국내정발 gpro 키보드 팝니다 1분타건 단순개봉 23일수령제품\n",
      "https://cafe.naver.com/ArticleRead.nhn?clubid=10050146&page=1&inCafeSearch=true&searchBy=0&query=%C5%B0%BA%B8%B5%E5&includeAll=&exclude=&include=&exact=&searchdate=all&media=0&sortBy=date&articleid=479168332&referrerAllArticles=true\n",
      "[배틀드라운드/신품케이스] i5-4690 /GTX-960~1060/ 메모리 8G~16G/ SSD120G/ HDD 500G/ 500W 정격파워[풀세트가능] 안전거래가능.\n",
      "https://cafe.naver.com/ArticleRead.nhn?clubid=10050146&page=1&inCafeSearch=true&searchBy=0&query=%C5%B0%BA%B8%B5%E5&includeAll=&exclude=&include=&exact=&searchdate=all&media=0&sortBy=date&articleid=479168187&referrerAllArticles=true\n",
      "★i5-3570 초특가구성 모든그래픽 다있습니다 들어오세요★\n",
      "https://cafe.naver.com/ArticleRead.nhn?clubid=10050146&page=1&inCafeSearch=true&searchBy=0&query=%C5%B0%BA%B8%B5%E5&includeAll=&exclude=&include=&exact=&searchdate=all&media=0&sortBy=date&articleid=479167740&referrerAllArticles=true\n",
      "경기) i7 8700 GTX1080Ti 16G 배그용 방송용 컴퓨터\n",
      "https://cafe.naver.com/ArticleRead.nhn?clubid=10050146&page=1&inCafeSearch=true&searchBy=0&query=%C5%B0%BA%B8%B5%E5&includeAll=&exclude=&include=&exact=&searchdate=all&media=0&sortBy=date&articleid=479167462&referrerAllArticles=true\n",
      "[익산] PS4 중고타이틀 팝니다.\n",
      "https://cafe.naver.com/ArticleRead.nhn?clubid=10050146&page=1&inCafeSearch=true&searchBy=0&query=%C5%B0%BA%B8%B5%E5&includeAll=&exclude=&include=&exact=&searchdate=all&media=0&sortBy=date&articleid=479167445&referrerAllArticles=true\n",
      "성능좋은 한성 P54M 노트북 인텔 i5 4세대 하스웰 i5-4210M 2.6G CPU / FULLHD 패널 / 15.6인치 / 지포스 840M 그래픽 / 삼성 SSD 128G\n",
      "https://cafe.naver.com/ArticleRead.nhn?clubid=10050146&page=1&inCafeSearch=true&searchBy=0&query=%C5%B0%BA%B8%B5%E5&includeAll=&exclude=&include=&exact=&searchdate=all&media=0&sortBy=date&articleid=479167297&referrerAllArticles=true\n"
     ]
    }
   ],
   "source": [
    "for item in td_list:\n",
    "    print(item.text)\n",
    "    print(item.find_element_by_tag_name('a').get_attribute('href'))"
   ]
  },
  {
   "cell_type": "markdown",
   "metadata": {},
   "source": [
    "## quora\n",
    "- scroll"
   ]
  },
  {
   "cell_type": "code",
   "execution_count": 17,
   "metadata": {},
   "outputs": [],
   "source": [
    "ch_driver.get('https://www.quora.com/search?q=python')"
   ]
  },
  {
   "cell_type": "code",
   "execution_count": 20,
   "metadata": {},
   "outputs": [],
   "source": [
    "ch_driver.execute_script('window.scrollTo(0, document.body.scrollHeight)')"
   ]
  },
  {
   "cell_type": "code",
   "execution_count": 21,
   "metadata": {},
   "outputs": [
    {
     "name": "stdout",
     "output_type": "stream",
     "text": [
      "How should I start learning Python? https://www.quora.com/How-should-I-start-learning-Python-1\n",
      "Is Python a dying language? A friend of my grandmother’s is a computer scientist from MIT. He told me that I should not learn Python because it's a dying language, and that I should learn Assembly because it's better than Python. https://www.quora.com/Is-Python-a-dying-language-A-friend-of-my-grandmother%E2%80%99s-is-a-computer-scientist-from-MIT-He-told-me-that-I-should-not-learn-Python-because-its-a-dying-language-and-that-I-should-learn-Assembly-because-its-better-than-Python\n",
      "What are the best Python scripts you've ever written? https://www.quora.com/What-are-the-best-Python-scripts-youve-ever-written\n",
      "What are some cool Python tricks? https://www.quora.com/What-are-some-cool-Python-tricks\n",
      "Which is better, PHP or Python? Why? https://www.quora.com/Which-is-better-PHP-or-Python-Why\n",
      "Which is the best book for learning python for absolute beginners on their own? https://www.quora.com/Which-is-the-best-book-for-learning-python-for-absolute-beginners-on-their-own\n",
      "What are some interesting things to do with Python? I want to make something related to big data or machine learning. https://www.quora.com/What-are-some-interesting-things-to-do-with-Python-I-want-to-make-something-related-to-big-data-or-machine-learning\n",
      "Which is better, Java or Python? And how? https://www.quora.com/Which-is-better-Java-or-Python-And-how\n",
      "What are the best learning sites for Python? https://www.quora.com/What-are-the-best-learning-sites-for-Python\n",
      "Between Java and Python, which one is better to learn first and why? https://www.quora.com/Between-Java-and-Python-which-one-is-better-to-learn-first-and-why\n",
      "What is Python primarily used for? https://www.quora.com/What-is-Python-primarily-used-for\n",
      "How do I learn Python in depth? https://www.quora.com/How-do-I-learn-Python-in-depth\n",
      "Can I make an Android app with Python? https://www.quora.com/Can-I-make-an-Android-app-with-Python\n",
      "What is the future of Python? https://www.quora.com/What-is-the-future-of-Python\n",
      "What can I do/build with Python? Is Python better for certain programming needs? What can you/can't you do with Python? https://www.quora.com/What-can-I-do-build-with-Python-Is-Python-better-for-certain-programming-needs-What-can-you-cant-you-do-with-Python\n",
      "What is the best IDE for Python? https://www.quora.com/What-is-the-best-IDE-for-Python\n",
      "Which is better for data analysis: R or Python? Is R still a better data analysis language than Python? Has anyone else used Python with Pandas, to a large extent, in data analysis projects? https://www.quora.com/Which-is-better-for-data-analysis-R-or-Python-Is-R-still-a-better-data-analysis-language-than-Python-Has-anyone-else-used-Python-with-Pandas-to-a-large-extent-in-data-analysis-projects\n",
      "Should I learn C++ or Python? https://www.quora.com/Should-I-learn-C++-or-Python\n",
      "How do I learn data analysis with Python? https://www.quora.com/How-do-I-learn-data-analysis-with-Python\n",
      "How do you use Python to make websites? https://www.quora.com/How-do-you-use-Python-to-make-websites\n",
      "What are some good, free resources to learn Python? https://www.quora.com/What-are-some-good-free-resources-to-learn-Python\n",
      "Why is Python so popular despite being so slow? https://www.quora.com/Why-is-Python-so-popular-despite-being-so-slow\n",
      "I want to learn to code with Python and Django (web framework). What's the best way to start for a programming newbie? Are Python/Django the best? https://www.quora.com/I-want-to-learn-to-code-with-Python-and-Django-web-framework-Whats-the-best-way-to-start-for-a-programming-newbie-Are-Python-Django-the-best\n",
      "How do I learn Python Programming the most effective way? https://www.quora.com/How-do-I-learn-Python-Programming-the-most-effective-way\n",
      "How do I become an expert Python programmer? https://www.quora.com/How-do-I-become-an-expert-Python-programmer\n",
      "Is Python easy to learn? https://www.quora.com/Is-Python-easy-to-learn\n",
      "Which should I learn: Python or PHP? https://www.quora.com/Which-should-I-learn-Python-or-PHP\n",
      "If Python \"doesn't scale\", why is Quora built on it? https://www.quora.com/If-Python-doesnt-scale-why-is-Quora-built-on-it\n",
      "How should I start learning Python for data science? How fast can I learn Python for data science and its libraries? https://www.quora.com/How-should-I-start-learning-Python-for-data-science-How-fast-can-I-learn-Python-for-data-science-and-its-libraries\n",
      "What are the best resources for learning how to use Python for Machine Learning/Data Science? https://www.quora.com/What-are-the-best-resources-for-learning-how-to-use-Python-for-Machine-Learning-Data-Science\n",
      "As someone interested in learning Python, should I start with 2.x or go straight to 3.x? https://www.quora.com/As-someone-interested-in-learning-Python-should-I-start-with-2-x-or-go-straight-to-3-x\n",
      "Why should I learn Python instead of Java? https://www.quora.com/Why-should-I-learn-Python-instead-of-Java\n",
      "Why I should learn Python? https://www.quora.com/Why-I-should-learn-Python-1\n",
      "What are some useful Python scripts? https://www.quora.com/What-are-some-useful-Python-scripts\n",
      "What are some hidden features of Python? https://www.quora.com/What-are-some-hidden-features-of-Python\n",
      "Should I learn Python or Ruby? https://www.quora.com/Should-I-learn-Python-or-Ruby\n",
      "Which is better: Python or C++? https://www.quora.com/Which-is-better-Python-or-C++\n",
      "As a beginner, what are some cool programs I can make using Python? https://www.quora.com/As-a-beginner-what-are-some-cool-programs-I-can-make-using-Python\n",
      "On average, how long does it take for a newbie to learn the general fundamentals and functions of Python if it’s their first language? https://www.quora.com/On-average-how-long-does-it-take-for-a-newbie-to-learn-the-general-fundamentals-and-functions-of-Python-if-it%E2%80%99s-their-first-language\n",
      "What are some good open source projects in Python to contribute to and start learning Python? https://www.quora.com/What-are-some-good-open-source-projects-in-Python-to-contribute-to-and-start-learning-Python\n",
      " https://www.quora.com/What-are-good-Python-interview-questions\n",
      " https://www.quora.com/Why-did-Quora-choose-Python-for-its-development-What-technological-challenges-did-the-founders-face-before-they-decided-to-go-with-Python-rather-than-PHP\n",
      " https://www.quora.com/What-can-Python-do\n"
     ]
    }
   ],
   "source": [
    "question_list = ch_driver.find_elements_by_css_selector('a.question_link')\n",
    "for item in question_list:\n",
    "    title = item.text\n",
    "    link = item.get_attribute('href')\n",
    "    print(title, link)"
   ]
  },
  {
   "cell_type": "markdown",
   "metadata": {},
   "source": [
    "## dart\n",
    "- pagenation\n",
    "- click"
   ]
  },
  {
   "cell_type": "code",
   "execution_count": 22,
   "metadata": {},
   "outputs": [],
   "source": [
    "ch_driver.get('https://dart.fss.or.kr/dsac001/mainAll.do')"
   ]
  },
  {
   "cell_type": "code",
   "execution_count": null,
   "metadata": {},
   "outputs": [],
   "source": [
    "notice_tr = ch_driver.find_elements_by_xpath('//*[@id=\"listContents\"]/div[1]/table/tbody/tr')\n",
    "new_html = []\n",
    "for item in notice_tr:\n",
    "    new_html.append(item.get_attribute('innerHTML'))"
   ]
  },
  {
   "cell_type": "code",
   "execution_count": null,
   "metadata": {
    "scrolled": false
   },
   "outputs": [],
   "source": [
    "\"\".join(new_html)"
   ]
  },
  {
   "cell_type": "code",
   "execution_count": null,
   "metadata": {},
   "outputs": [],
   "source": [
    "def get_item():\n",
    "    notice_tr = ch_driver.find_elements_by_xpath('//*[@id=\"listContents\"]/div[1]/table/tbody/tr')\n",
    "    new_html = []\n",
    "    for item in notice_tr:\n",
    "        new_html.append(item.get_attribute('innerHTML'))\n",
    "    result_string = \"\".join(new_html)\n",
    "    return result_string\n",
    "    "
   ]
  },
  {
   "cell_type": "code",
   "execution_count": null,
   "metadata": {},
   "outputs": [],
   "source": [
    "page_length = ch_driver.find_element_by_css_selector('p.page_info').text\n",
    "page_length"
   ]
  },
  {
   "cell_type": "code",
   "execution_count": 33,
   "metadata": {},
   "outputs": [],
   "source": [
    "ch_driver = webdriver.Chrome(\\\n",
    "    '/Users/ulgoon/Documents/dev/chromedriver')\n",
    "ch_driver.get('https://dart.fss.or.kr/dsac001/mainAll.do')"
   ]
  },
  {
   "cell_type": "code",
   "execution_count": 37,
   "metadata": {},
   "outputs": [],
   "source": [
    "page_length = ch_driver.find_element_by_css_selector('p.page_info').text\n",
    "page_length = int(page_length.split('/')[1][0])"
   ]
  },
  {
   "cell_type": "code",
   "execution_count": null,
   "metadata": {},
   "outputs": [],
   "source": [
    "for i in range(2, page_length+1):\n",
    "    get_result()\n",
    "    ch_driver.execute_script('search({})'.format(i))\n",
    "    "
   ]
  },
  {
   "cell_type": "code",
   "execution_count": 38,
   "metadata": {},
   "outputs": [],
   "source": [
    "ch_driver.find_element_by_id('crp1').click()"
   ]
  },
  {
   "cell_type": "code",
   "execution_count": null,
   "metadata": {},
   "outputs": [],
   "source": []
  }
 ],
 "metadata": {
  "kernelspec": {
   "display_name": "Python 3",
   "language": "python",
   "name": "python3"
  },
  "language_info": {
   "codemirror_mode": {
    "name": "ipython",
    "version": 3
   },
   "file_extension": ".py",
   "mimetype": "text/x-python",
   "name": "python",
   "nbconvert_exporter": "python",
   "pygments_lexer": "ipython3",
   "version": "3.6.4"
  }
 },
 "nbformat": 4,
 "nbformat_minor": 2
}
