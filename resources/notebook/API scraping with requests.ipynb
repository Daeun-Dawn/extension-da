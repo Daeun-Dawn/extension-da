{
 "cells": [
  {
   "cell_type": "code",
   "execution_count": 1,
   "metadata": {},
   "outputs": [],
   "source": [
    "import requests"
   ]
  },
  {
   "cell_type": "code",
   "execution_count": null,
   "metadata": {},
   "outputs": [],
   "source": [
    "uri = \"https://www.edx.org/api/v1/catalog/search?subject_uuids=a168a80a-4b6c-4d92-9f1d-4c235206feaf&do_not_retrieve_all=true&page_size=260\"\n",
    "response = requests.get(uri)\n",
    "response.text"
   ]
  },
  {
   "cell_type": "code",
   "execution_count": 5,
   "metadata": {},
   "outputs": [],
   "source": [
    "headers = {\n",
    "    \"accept\":\"*/*\",\n",
    "    \"accept-encoding\":\"gzip, deflate, br\",\n",
    "    \"accept-language\":\"ko,en-US;q=0.9,en;q=0.8,ko-KR;q=0.7,la;q=0.6\",\n",
    "    \"cookie\":\"_ga=GA1.2.1649214385.1526392326; fbm_126765124079533=base_domain=.watcha.net; uvts=7V3zfgWhcspf11pp; _gid=GA1.2.1649838149.1527657166; _s_guit=655c59a65f0a6bce33a53719db305eb9705d68040218770085532c2ae149; _gat=1; fbsr_126765124079533=hJKw28seLMm1cA1Tekrf05NGUfm8KtkqwdHHoRCPECg.eyJhbGdvcml0aG0iOiJITUFDLVNIQTI1NiIsImNvZGUiOiJBUURaVG5XVm1XX05sTHRRYkhkdXZMWHlKNW1WeERSTDRqOVNlbFRBUVZRMmd0UUdPb2FnTlhhMkpYb3otTXh4QjZUODJ5dU5iS1pLVFVvd2NBeGJvbzN5czdlbFFDSlpzcG5aZ1ZnTk9WbTdqQ0VqZ2h6akxaelNmQ0w5Y0kwaUNBRHE4WF9ZZlk1M2tYN1Z2OGc4ck9kaGJSWXJNTV9VeEpwUlVodHR0cUFlR1lsd3dFLXVEb2c2cVFFM2NmQjFJLXAzenhGUlBzRWhIeC1Sdkk4ZUFocXhSeFZhTlp0VUlwX1FrOWlrRHA4WVRRUnZnNHFUdllzSExUV0gydzFMQTg5Z01GNk1mcWVNZVlNN0Vsc2lZb2o4VVZjNEdEclYwS1VWTkdIRjltSU1TMnpqMmpsSkZmSEdlVmN0NXpzODUyMWp2MC1ZRXRVX2w2QnJkNjlCS1dWV0pUMXhMMTF1VGVzUDBIU3k3SDdMb2ciLCJpc3N1ZWRfYXQiOjE1Mjc2Nzk0NzAsInVzZXJfaWQiOiIxODAxMTg3MDIwMTM2ODk2In0; _guinness_session=RjA3bjZZbXVybFpaL3Nobk1CTUtMYS9sRXlERDMvTGgxK1kyaWNjVEJrYUZDUUJLN3dwMkxhTzlVM0lZQzAxWHJaK0RNL1JPdkpiK3VQbHdFSjBzWTFMb2V2RDNMSTU5MUoyZVM0bHpVNUlJVE8xSmpuM014V1BQaVF4QWh5NnA0UkRNc0pwZldiR2wwUGVZYllCTTNHenVjZjJRT1ZONnhlVkhsRU96YkRucjFjN2REOGMyYkY2cFErTkNiK2tZcGNHU3c0cER2YlQ1c2hZS2VoU2UrZz09LS1iNFpBT3dKRmxXdTIvQlhqZ00yRnRRPT0%3D--9dfda607fee8958026ef0aee2cd1f4137c767fe9\",\n",
    "    \"if-none-match\":'W/\"84e5e63c980b987a3a3c552435a608af\"',\n",
    "    \"referer\":\"https://watcha.net/boxoffice\",\n",
    "    \"user-agent\":\"Mozilla/5.0 (Macintosh; Intel Mac OS X 10_13_4) AppleWebKit/537.36 (KHTML, like Gecko) Chrome/66.0.3359.181 Safari/537.36\",\n",
    "    \"x-csrf-token\":\"n7F0bOui1eKQQHUJn1TOEslUZw72LH2ttyeAqWasvsZisRLg/hswqgOi6zUy5b4OrUIfsO9aOjw1CUJD3igZ3Q==\",\n",
    "    \"x-requested-with\":\"XMLHttpRequest\"\n",
    "          }"
   ]
  },
  {
   "cell_type": "code",
   "execution_count": null,
   "metadata": {},
   "outputs": [],
   "source": [
    "uri = \"https://watcha.net/boxoffice.json?page=1&per=10\"\n",
    "response = requests.get(uri, headers=headers)\n",
    "response.text"
   ]
  },
  {
   "cell_type": "markdown",
   "metadata": {},
   "source": [
    "## make naver scraper great again!"
   ]
  },
  {
   "cell_type": "code",
   "execution_count": 14,
   "metadata": {},
   "outputs": [
    {
     "name": "stdout",
     "output_type": "stream",
     "text": [
      "1 민우혁\n",
      "2 일본 가나\n",
      "3 오나라\n",
      "4 조민기\n",
      "5 수목드라마\n",
      "6 김비서가 왜그럴까\n",
      "7 연금복권\n",
      "8 리니지m\n",
      "9 복면가왕 흥부자댁\n",
      "10 한상규\n",
      "11 라돈\n",
      "12 김도훈\n",
      "13 라디오스타\n",
      "14 한여름\n",
      "15 kt 올레\n",
      "16 kbo\n",
      "17 붉은불개미\n",
      "18 전생에 웬수들\n",
      "19 ebs중학\n",
      "20 2018 프로야구 중계\n"
     ]
    }
   ],
   "source": [
    "import requests\n",
    "from bs4 import BeautifulSoup as btfs\n",
    "\n",
    "\n",
    "def scrape():\n",
    "    url = \"https://www.naver.com\"\n",
    "    response = requests.get(url).text\n",
    "    soup = btfs(response, \"html.parser\")\n",
    "    ul_tag = soup.find('ul', attrs={\"class\":\"ah_l\"})\n",
    "    all_li = ul_tag.find_all('li')\n",
    "    for li in all_li:\n",
    "        rank = li.find('span', attrs={\"class\":\"ah_r\"}).text\n",
    "        keyword = li.find('span', attrs={\"class\":\"ah_k\"}).text\n",
    "        print(rank, keyword)\n",
    "scrape()"
   ]
  }
 ],
 "metadata": {
  "kernelspec": {
   "display_name": "Python 3",
   "language": "python",
   "name": "python3"
  },
  "language_info": {
   "codemirror_mode": {
    "name": "ipython",
    "version": 3
   },
   "file_extension": ".py",
   "mimetype": "text/x-python",
   "name": "python",
   "nbconvert_exporter": "python",
   "pygments_lexer": "ipython3",
   "version": "3.6.4"
  }
 },
 "nbformat": 4,
 "nbformat_minor": 2
}
