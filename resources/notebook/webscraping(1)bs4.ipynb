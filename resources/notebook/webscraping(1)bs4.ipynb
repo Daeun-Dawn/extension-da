{
 "cells": [
  {
   "cell_type": "code",
   "execution_count": 2,
   "metadata": {},
   "outputs": [],
   "source": [
    "import requests\n",
    "from bs4 import BeautifulSoup as btfs"
   ]
  },
  {
   "cell_type": "markdown",
   "metadata": {},
   "source": [
    "## requests 기본 사용법"
   ]
  },
  {
   "cell_type": "code",
   "execution_count": 3,
   "metadata": {},
   "outputs": [
    {
     "data": {
      "text/plain": [
       "<Response [200]>"
      ]
     },
     "execution_count": 3,
     "metadata": {},
     "output_type": "execute_result"
    }
   ],
   "source": [
    "requests.get('https://www.google.com/')"
   ]
  },
  {
   "cell_type": "code",
   "execution_count": 4,
   "metadata": {},
   "outputs": [],
   "source": [
    "response = requests.get('https://www.google.com/')"
   ]
  },
  {
   "cell_type": "code",
   "execution_count": 5,
   "metadata": {},
   "outputs": [
    {
     "data": {
      "text/plain": [
       "'https://www.google.com/'"
      ]
     },
     "execution_count": 5,
     "metadata": {},
     "output_type": "execute_result"
    }
   ],
   "source": [
    "response.url"
   ]
  },
  {
   "cell_type": "code",
   "execution_count": 6,
   "metadata": {},
   "outputs": [
    {
     "data": {
      "text/plain": [
       "{'Date': 'Wed, 23 May 2018 10:55:39 GMT', 'Expires': '-1', 'Cache-Control': 'private, max-age=0', 'Content-Type': 'text/html; charset=ISO-8859-1', 'P3P': 'CP=\"This is not a P3P policy! See g.co/p3phelp for more info.\"', 'Content-Encoding': 'gzip', 'Server': 'gws', 'X-XSS-Protection': '1; mode=block', 'X-Frame-Options': 'SAMEORIGIN', 'Set-Cookie': '1P_JAR=2018-05-23-10; expires=Fri, 22-Jun-2018 10:55:39 GMT; path=/; domain=.google.com, NID=130=XQSh1d4ffvhRPfB7p26CSXL1Za48jsUUPoj7eyCbX8h9L90yX-b-dQZmFmf9G3q8QWu-RnGOuscjRHTjHC-uA-u92T7JkVRpRdxQR5aMTgpuXJfIuZR4sdsQ-6nu6Mvr; expires=Thu, 22-Nov-2018 10:55:39 GMT; path=/; domain=.google.com; HttpOnly', 'Alt-Svc': 'hq=\":443\"; ma=2592000; quic=51303433; quic=51303432; quic=51303431; quic=51303339; quic=51303335,quic=\":443\"; ma=2592000; v=\"43,42,41,39,35\"', 'Transfer-Encoding': 'chunked'}"
      ]
     },
     "execution_count": 6,
     "metadata": {},
     "output_type": "execute_result"
    }
   ],
   "source": [
    "response.headers"
   ]
  },
  {
   "cell_type": "code",
   "execution_count": null,
   "metadata": {},
   "outputs": [],
   "source": [
    "response.text"
   ]
  },
  {
   "cell_type": "markdown",
   "metadata": {},
   "source": [
    "## naver realtime keywords"
   ]
  },
  {
   "cell_type": "code",
   "execution_count": 8,
   "metadata": {},
   "outputs": [
    {
     "data": {
      "text/plain": [
       "<Response [200]>"
      ]
     },
     "execution_count": 8,
     "metadata": {},
     "output_type": "execute_result"
    }
   ],
   "source": [
    "url = \"https://www.naver.com/\"\n",
    "response = requests.get(url)\n",
    "response"
   ]
  },
  {
   "cell_type": "code",
   "execution_count": 10,
   "metadata": {},
   "outputs": [],
   "source": [
    "html = response.text"
   ]
  },
  {
   "cell_type": "code",
   "execution_count": 11,
   "metadata": {},
   "outputs": [],
   "source": [
    "soup = btfs(html, \"html.parser\")"
   ]
  },
  {
   "cell_type": "code",
   "execution_count": null,
   "metadata": {
    "scrolled": true
   },
   "outputs": [],
   "source": [
    "ul = soup.find('ul', attrs={\"class\":\"ah_l\"})\n",
    "all_li = ul.find_all('li')\n",
    "all_li"
   ]
  },
  {
   "cell_type": "code",
   "execution_count": 19,
   "metadata": {},
   "outputs": [
    {
     "name": "stdout",
     "output_type": "stream",
     "text": [
      "1 이승훈\n",
      "2 연금복권\n",
      "3 김호재\n",
      "4 박동원\n",
      "5 이명박\n",
      "6 전생에 웬수들\n",
      "7 조상우\n",
      "8 밤토끼\n",
      "9 이용철\n",
      "10 수목드라마\n",
      "11 인터파크티켓\n",
      "12 김민승\n",
      "13 넵튠\n",
      "14 차은우\n",
      "15 넥센히어로즈\n",
      "16 사회복지시설정보시스템\n",
      "17 전생에 웬수들몇부작\n",
      "18 감기\n",
      "19 내 id는 강남미인\n",
      "20 멜론티켓\n"
     ]
    }
   ],
   "source": [
    "for item in all_li:\n",
    "    # item.find_all('span')\n",
    "    rank = item.find('span', attrs={'class':'ah_r'}).text\n",
    "    keyword = item.find('span', attrs={'class':'ah_k'}).text\n",
    "    print(rank, keyword)\n",
    "    with open('./ah_list.csv', 'a') as f:\n",
    "        f.write(\"{},{}\\n\".format(rank, keyword))"
   ]
  },
  {
   "cell_type": "markdown",
   "metadata": {},
   "source": [
    "## Rotten tomatoes"
   ]
  },
  {
   "cell_type": "code",
   "execution_count": 47,
   "metadata": {},
   "outputs": [
    {
     "data": {
      "text/plain": [
       "<Response [200]>"
      ]
     },
     "execution_count": 47,
     "metadata": {},
     "output_type": "execute_result"
    }
   ],
   "source": [
    "url = \"https://www.rottentomatoes.com\"\n",
    "response = requests.get(url)\n",
    "response"
   ]
  },
  {
   "cell_type": "code",
   "execution_count": 48,
   "metadata": {},
   "outputs": [],
   "source": [
    "html = response.text"
   ]
  },
  {
   "cell_type": "code",
   "execution_count": 49,
   "metadata": {},
   "outputs": [],
   "source": [
    "soup = btfs(html, \"html.parser\")"
   ]
  },
  {
   "cell_type": "code",
   "execution_count": 50,
   "metadata": {},
   "outputs": [],
   "source": [
    "opening = soup.find('div', attrs={'id':'homepage-opening-this-week'})\n",
    "table_title = opening.find('h2')\n",
    "title = table_title.text # table_title.text.encode('utf-8')"
   ]
  },
  {
   "cell_type": "code",
   "execution_count": 51,
   "metadata": {},
   "outputs": [
    {
     "data": {
      "text/plain": [
       "[<tr class=\"\">\n",
       " <td class=\"left_col\">\n",
       " <a href=\"/m/solo_a_star_wars_story\">\n",
       " <span class=\"icon tiny fresh\"></span>\n",
       " <span class=\"tMeterScore\">72%</span>\n",
       " </a>\n",
       " </td>\n",
       " <td class=\"middle_col\">\n",
       " <a href=\"/m/solo_a_star_wars_story\">Solo: A Star Wars Story</a>\n",
       " </td>\n",
       " <td class=\"right_col right\">\n",
       " <a href=\"/m/solo_a_star_wars_story\">\n",
       "                     May 25</a>\n",
       " </td>\n",
       " </tr>, <tr class=\"\">\n",
       " <td class=\"left_col\">\n",
       " <a href=\"/m/how_to_talk_to_girls_at_parties\">\n",
       " <span class=\"icon tiny rotten\"></span>\n",
       " <span class=\"tMeterScore\">37%</span>\n",
       " </a>\n",
       " </td>\n",
       " <td class=\"middle_col\">\n",
       " <a href=\"/m/how_to_talk_to_girls_at_parties\">How to Talk to Girls at Parties</a>\n",
       " </td>\n",
       " <td class=\"right_col right\">\n",
       " <a href=\"/m/how_to_talk_to_girls_at_parties\">\n",
       "                     May 25</a>\n",
       " </td>\n",
       " </tr>, <tr class=\"\">\n",
       " <td class=\"left_col\">\n",
       " <a href=\"/m/mary_shelley\">\n",
       " <span class=\"icon tiny rotten\"></span>\n",
       " <span class=\"tMeterScore\">34%</span>\n",
       " </a>\n",
       " </td>\n",
       " <td class=\"middle_col\">\n",
       " <a href=\"/m/mary_shelley\">Mary Shelley</a>\n",
       " </td>\n",
       " <td class=\"right_col right\">\n",
       " <a href=\"/m/mary_shelley\">\n",
       "                     May 25</a>\n",
       " </td>\n",
       " </tr>, <tr class=\"\">\n",
       " <td class=\"left_col\">\n",
       " <a href=\"/m/future_world\">\n",
       " <span class=\"tMeterIcon tiny noRating\">No Score Yet</span>\n",
       " </a>\n",
       " </td>\n",
       " <td class=\"middle_col\">\n",
       " <a href=\"/m/future_world\">Future World</a>\n",
       " </td>\n",
       " <td class=\"right_col right\">\n",
       " <a href=\"/m/future_world\">\n",
       "                     May 25</a>\n",
       " </td>\n",
       " </tr>, <tr class=\"\">\n",
       " <td class=\"left_col\">\n",
       " <a href=\"/m/summer_1993\">\n",
       " <span class=\"icon tiny fresh\"></span>\n",
       " <span class=\"tMeterScore\">100%</span>\n",
       " </a>\n",
       " </td>\n",
       " <td class=\"middle_col\">\n",
       " <a href=\"/m/summer_1993\">Summer 1993 (Estiu 1993)</a>\n",
       " </td>\n",
       " <td class=\"right_col right\">\n",
       " <a href=\"/m/summer_1993\">\n",
       "                     May 25</a>\n",
       " </td>\n",
       " </tr>]"
      ]
     },
     "execution_count": 51,
     "metadata": {},
     "output_type": "execute_result"
    }
   ],
   "source": [
    "data_table = opening.find_all('tr')\n",
    "data_table"
   ]
  },
  {
   "cell_type": "code",
   "execution_count": 52,
   "metadata": {},
   "outputs": [],
   "source": [
    "score = data_table[0].find('span', attrs={'class':'tMeterScore'}).text"
   ]
  },
  {
   "cell_type": "code",
   "execution_count": 53,
   "metadata": {},
   "outputs": [],
   "source": [
    "score = data_table[0].find_all('a')[0].find('span', attrs={\"class\":\"tMeterScore\"}).text"
   ]
  },
  {
   "cell_type": "code",
   "execution_count": 54,
   "metadata": {},
   "outputs": [],
   "source": [
    "movie_name = data_table[0].find_all('a')[1].text"
   ]
  },
  {
   "cell_type": "code",
   "execution_count": 55,
   "metadata": {},
   "outputs": [
    {
     "data": {
      "text/plain": [
       "'https://www.rottentomatoes.com/m/solo_a_star_wars_story'"
      ]
     },
     "execution_count": 55,
     "metadata": {},
     "output_type": "execute_result"
    }
   ],
   "source": [
    "link = url + data_table[0].find_all('a')[1]['href']"
   ]
  },
  {
   "cell_type": "code",
   "execution_count": 63,
   "metadata": {},
   "outputs": [
    {
     "data": {
      "text/plain": [
       "'May 25'"
      ]
     },
     "execution_count": 63,
     "metadata": {},
     "output_type": "execute_result"
    }
   ],
   "source": [
    "data_table[0].find_all('a')[2].text.strip()"
   ]
  },
  {
   "cell_type": "code",
   "execution_count": 66,
   "metadata": {},
   "outputs": [
    {
     "name": "stdout",
     "output_type": "stream",
     "text": [
      "72%,Solo: A Star Wars Story,https://www.rottentomatoes.com/m/solo_a_star_wars_story,May 25\n",
      "\n",
      "37%,How to Talk to Girls at Parties,https://www.rottentomatoes.com/m/how_to_talk_to_girls_at_parties,May 25\n",
      "\n",
      "34%,Mary Shelley,https://www.rottentomatoes.com/m/mary_shelley,May 25\n",
      "\n",
      "not yet,Future World,https://www.rottentomatoes.com/m/future_world,May 25\n",
      "\n",
      "100%,Summer 1993 (Estiu 1993),https://www.rottentomatoes.com/m/summer_1993,May 25\n",
      "\n"
     ]
    }
   ],
   "source": [
    "for item in data_table:\n",
    "    a_list = item.find_all('a')\n",
    "    try:\n",
    "        score = a_list[0].find('span', attrs={\"class\":\"tMeterScore\"}).text\n",
    "    except:\n",
    "        score = 'not yet'\n",
    "    movie_name = a_list[1].text\n",
    "    link = url + a_list[1]['href']\n",
    "    opening_day = a_list[2].text.strip()\n",
    "    print(\"{},{},{},{}\\n\".format(score, movie_name, link, opening_day))\n",
    "    "
   ]
  },
  {
   "cell_type": "markdown",
   "metadata": {},
   "source": [
    "## Media daum article scraping"
   ]
  },
  {
   "cell_type": "code",
   "execution_count": 75,
   "metadata": {},
   "outputs": [
    {
     "data": {
      "text/plain": [
       "'http://v.media.daum.net/v/20180523172922410'"
      ]
     },
     "execution_count": 75,
     "metadata": {},
     "output_type": "execute_result"
    }
   ],
   "source": [
    "main_url = \"http://media.daum.net/digital\"\n",
    "html = requests.get(main_url).text\n",
    "soup = btfs(html, 'html.parser')\n",
    "news_ul = soup.find('ul', attrs={'class':'list_mainnews'})\n"
   ]
  },
  {
   "cell_type": "code",
   "execution_count": 77,
   "metadata": {},
   "outputs": [],
   "source": [
    "link_list = [item.find('a')['href'] for item in news_ul.find_all('li')]\n",
    "\n",
    "#link_list = []\n",
    "#for item in news_ul.find_all('li'):\n",
    "#    link_list.append(item.find('a')['href'])"
   ]
  },
  {
   "cell_type": "code",
   "execution_count": null,
   "metadata": {},
   "outputs": [],
   "source": [
    "import time\n",
    "for link in link_list:\n",
    "    response = requests.get(link).text\n",
    "    soup = btfs(response, 'html.parser')\n",
    "    content_section = soup.find('div', attrs={'class':'cont_view'})\n",
    "    article_title = content_section.find(\\\n",
    "        'h3', attrs={'class':'tit_view'}).text\n",
    "    contents = content_section.find('div', attrs={'class':'news_view'})\n",
    "    all_ps = \" \".join([p.text for p in contents.find_all('p')])\n",
    "    print((article_title, all_ps))\n",
    "    time.sleep(1)\n",
    "    \n",
    "    \n",
    "    "
   ]
  },
  {
   "cell_type": "code",
   "execution_count": 84,
   "metadata": {},
   "outputs": [
    {
     "data": {
      "text/plain": [
       "'123'"
      ]
     },
     "execution_count": 84,
     "metadata": {},
     "output_type": "execute_result"
    }
   ],
   "source": [
    "\"\".join([\"1\",\"2\",\"3\"])"
   ]
  }
 ],
 "metadata": {
  "kernelspec": {
   "display_name": "Python 3",
   "language": "python",
   "name": "python3"
  },
  "language_info": {
   "codemirror_mode": {
    "name": "ipython",
    "version": 3
   },
   "file_extension": ".py",
   "mimetype": "text/x-python",
   "name": "python",
   "nbconvert_exporter": "python",
   "pygments_lexer": "ipython3",
   "version": "3.6.4"
  }
 },
 "nbformat": 4,
 "nbformat_minor": 2
}
